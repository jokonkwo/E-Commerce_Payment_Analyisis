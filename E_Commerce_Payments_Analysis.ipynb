{
  "nbformat": 4,
  "nbformat_minor": 0,
  "metadata": {
    "colab": {
      "name": "E-Commerce Payments Analysis - Justin Okonkwo.ipynb",
      "provenance": [],
      "collapsed_sections": []
    },
    "kernelspec": {
      "name": "python3",
      "display_name": "Python 3"
    },
    "language_info": {
      "name": "python"
    }
  },
  "cells": [
    {
      "cell_type": "markdown",
      "metadata": {
        "id": "UJcnorKtGpoF"
      },
      "source": [
        "## **E-Commerce/Payments Analysis**\n",
        "\n",
        "###### *Analyze and report metrics/insights on high interchange fees*"
      ]
    },
    {
      "cell_type": "code",
      "metadata": {
        "id": "1y6DhLjJPG73"
      },
      "source": [
        "from google.colab import drive\n",
        "drive.mount('/content/drive')"
      ],
      "execution_count": null,
      "outputs": []
    },
    {
      "cell_type": "code",
      "metadata": {
        "id": "mmZ5zhwwQiON"
      },
      "source": [
        "import pandas as pd\n",
        "import numpy as np\n",
        "import matplotlib.pyplot as plt\n",
        "import datetime as dt\n",
        "import seaborn as sns"
      ],
      "execution_count": 2,
      "outputs": []
    },
    {
      "cell_type": "markdown",
      "metadata": {
        "id": "mbFqbPPJwfm5"
      },
      "source": [
        "### **Import Data**"
      ]
    },
    {
      "cell_type": "code",
      "metadata": {
        "colab": {
          "base_uri": "https://localhost:8080/",
          "height": 241
        },
        "id": "u87jZCQywDtJ",
        "outputId": "aa8a8755-699a-4185-a1d6-be56a624f2ce"
      },
      "source": [
        "path = \"/content/drive/MyDrive/Data Science/Data Sets/Finance Case Study/Finance Case Study - Data Analysis.csv\"\n",
        "df = pd.read_csv(path)\n",
        "df.head()"
      ],
      "execution_count": 3,
      "outputs": [
        {
          "output_type": "execute_result",
          "data": {
            "text/html": [
              "<div>\n",
              "<style scoped>\n",
              "    .dataframe tbody tr th:only-of-type {\n",
              "        vertical-align: middle;\n",
              "    }\n",
              "\n",
              "    .dataframe tbody tr th {\n",
              "        vertical-align: top;\n",
              "    }\n",
              "\n",
              "    .dataframe thead th {\n",
              "        text-align: right;\n",
              "    }\n",
              "</style>\n",
              "<table border=\"1\" class=\"dataframe\">\n",
              "  <thead>\n",
              "    <tr style=\"text-align: right;\">\n",
              "      <th></th>\n",
              "      <th>payment_creation_day</th>\n",
              "      <th>txn_reference</th>\n",
              "      <th>bin</th>\n",
              "      <th>funding_source</th>\n",
              "      <th>issuer_country_code</th>\n",
              "      <th>shopper_interaction</th>\n",
              "      <th>mcc</th>\n",
              "      <th>cvc_supplied</th>\n",
              "      <th>avs_supplied</th>\n",
              "      <th>transaction_amount</th>\n",
              "      <th>transaction_currency</th>\n",
              "      <th>interchange amount</th>\n",
              "      <th>interchang_currency</th>\n",
              "    </tr>\n",
              "  </thead>\n",
              "  <tbody>\n",
              "    <tr>\n",
              "      <th>0</th>\n",
              "      <td>01/09/2021</td>\n",
              "      <td>3.326305e+15</td>\n",
              "      <td>414740</td>\n",
              "      <td>CREDIT</td>\n",
              "      <td>US</td>\n",
              "      <td>Ecommerce</td>\n",
              "      <td>5310</td>\n",
              "      <td>True</td>\n",
              "      <td>Yes</td>\n",
              "      <td>9.99</td>\n",
              "      <td>USD</td>\n",
              "      <td>0.339760</td>\n",
              "      <td>USD</td>\n",
              "    </tr>\n",
              "    <tr>\n",
              "      <th>1</th>\n",
              "      <td>01/09/2021</td>\n",
              "      <td>3.326305e+15</td>\n",
              "      <td>476895</td>\n",
              "      <td>DEBIT</td>\n",
              "      <td>US</td>\n",
              "      <td>ContAuth</td>\n",
              "      <td>5310</td>\n",
              "      <td>False</td>\n",
              "      <td>Yes</td>\n",
              "      <td>9.99</td>\n",
              "      <td>USD</td>\n",
              "      <td>0.314835</td>\n",
              "      <td>USD</td>\n",
              "    </tr>\n",
              "    <tr>\n",
              "      <th>2</th>\n",
              "      <td>01/09/2021</td>\n",
              "      <td>3.326305e+15</td>\n",
              "      <td>414718</td>\n",
              "      <td>CREDIT</td>\n",
              "      <td>US</td>\n",
              "      <td>ContAuth</td>\n",
              "      <td>5311</td>\n",
              "      <td>False</td>\n",
              "      <td>Yes</td>\n",
              "      <td>9.99</td>\n",
              "      <td>USD</td>\n",
              "      <td>0.339760</td>\n",
              "      <td>USD</td>\n",
              "    </tr>\n",
              "    <tr>\n",
              "      <th>3</th>\n",
              "      <td>02/09/2021</td>\n",
              "      <td>3.326306e+15</td>\n",
              "      <td>400278</td>\n",
              "      <td>CREDIT</td>\n",
              "      <td>US</td>\n",
              "      <td>ContAuth</td>\n",
              "      <td>5311</td>\n",
              "      <td>False</td>\n",
              "      <td>Yes</td>\n",
              "      <td>9.99</td>\n",
              "      <td>USD</td>\n",
              "      <td>0.339760</td>\n",
              "      <td>USD</td>\n",
              "    </tr>\n",
              "    <tr>\n",
              "      <th>4</th>\n",
              "      <td>02/09/2021</td>\n",
              "      <td>3.326306e+15</td>\n",
              "      <td>491523</td>\n",
              "      <td>CREDIT</td>\n",
              "      <td>US</td>\n",
              "      <td>ContAuth</td>\n",
              "      <td>5310</td>\n",
              "      <td>NaN</td>\n",
              "      <td>Yes</td>\n",
              "      <td>9.99</td>\n",
              "      <td>USD</td>\n",
              "      <td>0.339760</td>\n",
              "      <td>USD</td>\n",
              "    </tr>\n",
              "  </tbody>\n",
              "</table>\n",
              "</div>"
            ],
            "text/plain": [
              "  payment_creation_day  txn_reference  ...  interchange amount interchang_currency\n",
              "0           01/09/2021   3.326305e+15  ...            0.339760                 USD\n",
              "1           01/09/2021   3.326305e+15  ...            0.314835                 USD\n",
              "2           01/09/2021   3.326305e+15  ...            0.339760                 USD\n",
              "3           02/09/2021   3.326306e+15  ...            0.339760                 USD\n",
              "4           02/09/2021   3.326306e+15  ...            0.339760                 USD\n",
              "\n",
              "[5 rows x 13 columns]"
            ]
          },
          "metadata": {},
          "execution_count": 3
        }
      ]
    },
    {
      "cell_type": "code",
      "metadata": {
        "colab": {
          "base_uri": "https://localhost:8080/",
          "height": 241
        },
        "id": "rLIpPYQ54x0_",
        "outputId": "82ec3016-116f-4c66-9a76-ca6a028dc279"
      },
      "source": [
        "# Convert 'txn_reference' into integer to avoid cleaning problems: 3.326305e+15 -> 3326304777555333\n",
        "df['txn_reference'] = df['txn_reference'].astype(int)\n",
        "df.head()"
      ],
      "execution_count": 4,
      "outputs": [
        {
          "output_type": "execute_result",
          "data": {
            "text/html": [
              "<div>\n",
              "<style scoped>\n",
              "    .dataframe tbody tr th:only-of-type {\n",
              "        vertical-align: middle;\n",
              "    }\n",
              "\n",
              "    .dataframe tbody tr th {\n",
              "        vertical-align: top;\n",
              "    }\n",
              "\n",
              "    .dataframe thead th {\n",
              "        text-align: right;\n",
              "    }\n",
              "</style>\n",
              "<table border=\"1\" class=\"dataframe\">\n",
              "  <thead>\n",
              "    <tr style=\"text-align: right;\">\n",
              "      <th></th>\n",
              "      <th>payment_creation_day</th>\n",
              "      <th>txn_reference</th>\n",
              "      <th>bin</th>\n",
              "      <th>funding_source</th>\n",
              "      <th>issuer_country_code</th>\n",
              "      <th>shopper_interaction</th>\n",
              "      <th>mcc</th>\n",
              "      <th>cvc_supplied</th>\n",
              "      <th>avs_supplied</th>\n",
              "      <th>transaction_amount</th>\n",
              "      <th>transaction_currency</th>\n",
              "      <th>interchange amount</th>\n",
              "      <th>interchang_currency</th>\n",
              "    </tr>\n",
              "  </thead>\n",
              "  <tbody>\n",
              "    <tr>\n",
              "      <th>0</th>\n",
              "      <td>01/09/2021</td>\n",
              "      <td>3326304777555333</td>\n",
              "      <td>414740</td>\n",
              "      <td>CREDIT</td>\n",
              "      <td>US</td>\n",
              "      <td>Ecommerce</td>\n",
              "      <td>5310</td>\n",
              "      <td>True</td>\n",
              "      <td>Yes</td>\n",
              "      <td>9.99</td>\n",
              "      <td>USD</td>\n",
              "      <td>0.339760</td>\n",
              "      <td>USD</td>\n",
              "    </tr>\n",
              "    <tr>\n",
              "      <th>1</th>\n",
              "      <td>01/09/2021</td>\n",
              "      <td>3326305147926393</td>\n",
              "      <td>476895</td>\n",
              "      <td>DEBIT</td>\n",
              "      <td>US</td>\n",
              "      <td>ContAuth</td>\n",
              "      <td>5310</td>\n",
              "      <td>False</td>\n",
              "      <td>Yes</td>\n",
              "      <td>9.99</td>\n",
              "      <td>USD</td>\n",
              "      <td>0.314835</td>\n",
              "      <td>USD</td>\n",
              "    </tr>\n",
              "    <tr>\n",
              "      <th>2</th>\n",
              "      <td>01/09/2021</td>\n",
              "      <td>3326305264186706</td>\n",
              "      <td>414718</td>\n",
              "      <td>CREDIT</td>\n",
              "      <td>US</td>\n",
              "      <td>ContAuth</td>\n",
              "      <td>5311</td>\n",
              "      <td>False</td>\n",
              "      <td>Yes</td>\n",
              "      <td>9.99</td>\n",
              "      <td>USD</td>\n",
              "      <td>0.339760</td>\n",
              "      <td>USD</td>\n",
              "    </tr>\n",
              "    <tr>\n",
              "      <th>3</th>\n",
              "      <td>02/09/2021</td>\n",
              "      <td>3326305664469827</td>\n",
              "      <td>400278</td>\n",
              "      <td>CREDIT</td>\n",
              "      <td>US</td>\n",
              "      <td>ContAuth</td>\n",
              "      <td>5311</td>\n",
              "      <td>False</td>\n",
              "      <td>Yes</td>\n",
              "      <td>9.99</td>\n",
              "      <td>USD</td>\n",
              "      <td>0.339760</td>\n",
              "      <td>USD</td>\n",
              "    </tr>\n",
              "    <tr>\n",
              "      <th>4</th>\n",
              "      <td>02/09/2021</td>\n",
              "      <td>3326305969977557</td>\n",
              "      <td>491523</td>\n",
              "      <td>CREDIT</td>\n",
              "      <td>US</td>\n",
              "      <td>ContAuth</td>\n",
              "      <td>5310</td>\n",
              "      <td>NaN</td>\n",
              "      <td>Yes</td>\n",
              "      <td>9.99</td>\n",
              "      <td>USD</td>\n",
              "      <td>0.339760</td>\n",
              "      <td>USD</td>\n",
              "    </tr>\n",
              "  </tbody>\n",
              "</table>\n",
              "</div>"
            ],
            "text/plain": [
              "  payment_creation_day  ...  interchang_currency\n",
              "0           01/09/2021  ...                  USD\n",
              "1           01/09/2021  ...                  USD\n",
              "2           01/09/2021  ...                  USD\n",
              "3           02/09/2021  ...                  USD\n",
              "4           02/09/2021  ...                  USD\n",
              "\n",
              "[5 rows x 13 columns]"
            ]
          },
          "metadata": {},
          "execution_count": 4
        }
      ]
    },
    {
      "cell_type": "markdown",
      "metadata": {
        "id": "goG01agK4_eb"
      },
      "source": [
        "### **Data Cleaning**"
      ]
    },
    {
      "cell_type": "markdown",
      "metadata": {
        "id": "WmrMh9ezKOQ4"
      },
      "source": [
        "#### Find Duplicates"
      ]
    },
    {
      "cell_type": "code",
      "metadata": {
        "colab": {
          "base_uri": "https://localhost:8080/"
        },
        "id": "7KG2HEZY20j1",
        "outputId": "7a9809ce-fd00-4242-d6ab-16a7da2e6106"
      },
      "source": [
        "print(df.duplicated().sum())"
      ],
      "execution_count": 5,
      "outputs": [
        {
          "output_type": "stream",
          "name": "stdout",
          "text": [
            "1525\n"
          ]
        }
      ]
    },
    {
      "cell_type": "code",
      "metadata": {
        "colab": {
          "base_uri": "https://localhost:8080/",
          "height": 117
        },
        "id": "JVAknQu5iuYX",
        "outputId": "2d0330f8-1cc9-4196-dfd1-623838d9b8e6"
      },
      "source": [
        "df.loc[df.duplicated() == True, :].head(1)"
      ],
      "execution_count": 6,
      "outputs": [
        {
          "output_type": "execute_result",
          "data": {
            "text/html": [
              "<div>\n",
              "<style scoped>\n",
              "    .dataframe tbody tr th:only-of-type {\n",
              "        vertical-align: middle;\n",
              "    }\n",
              "\n",
              "    .dataframe tbody tr th {\n",
              "        vertical-align: top;\n",
              "    }\n",
              "\n",
              "    .dataframe thead th {\n",
              "        text-align: right;\n",
              "    }\n",
              "</style>\n",
              "<table border=\"1\" class=\"dataframe\">\n",
              "  <thead>\n",
              "    <tr style=\"text-align: right;\">\n",
              "      <th></th>\n",
              "      <th>payment_creation_day</th>\n",
              "      <th>txn_reference</th>\n",
              "      <th>bin</th>\n",
              "      <th>funding_source</th>\n",
              "      <th>issuer_country_code</th>\n",
              "      <th>shopper_interaction</th>\n",
              "      <th>mcc</th>\n",
              "      <th>cvc_supplied</th>\n",
              "      <th>avs_supplied</th>\n",
              "      <th>transaction_amount</th>\n",
              "      <th>transaction_currency</th>\n",
              "      <th>interchange amount</th>\n",
              "      <th>interchang_currency</th>\n",
              "    </tr>\n",
              "  </thead>\n",
              "  <tbody>\n",
              "    <tr>\n",
              "      <th>3611</th>\n",
              "      <td>10/09/2021</td>\n",
              "      <td>6456310000000000</td>\n",
              "      <td>405448</td>\n",
              "      <td>CREDIT</td>\n",
              "      <td>US</td>\n",
              "      <td>ContAuth</td>\n",
              "      <td>5310</td>\n",
              "      <td>False</td>\n",
              "      <td>No</td>\n",
              "      <td>9.99</td>\n",
              "      <td>USD</td>\n",
              "      <td>0.36973</td>\n",
              "      <td>USD</td>\n",
              "    </tr>\n",
              "  </tbody>\n",
              "</table>\n",
              "</div>"
            ],
            "text/plain": [
              "     payment_creation_day  ...  interchang_currency\n",
              "3611           10/09/2021  ...                  USD\n",
              "\n",
              "[1 rows x 13 columns]"
            ]
          },
          "metadata": {},
          "execution_count": 6
        }
      ]
    },
    {
      "cell_type": "code",
      "metadata": {
        "colab": {
          "base_uri": "https://localhost:8080/",
          "height": 148
        },
        "id": "LDzYpmRd-ioJ",
        "outputId": "aedb1044-8458-417f-9e04-e1bfce322273"
      },
      "source": [
        "df.loc[(df['txn_reference'] == 6456310000000000) & (df['payment_creation_day'] == '10/09/2021'), :].head(2)\n",
        "\n",
        "# Keeping duplicate rows, under the assumption each transaction is unique\n",
        "# There is no Transaction ID to confirm unique transactions vs duplicates. See example below:"
      ],
      "execution_count": 7,
      "outputs": [
        {
          "output_type": "execute_result",
          "data": {
            "text/html": [
              "<div>\n",
              "<style scoped>\n",
              "    .dataframe tbody tr th:only-of-type {\n",
              "        vertical-align: middle;\n",
              "    }\n",
              "\n",
              "    .dataframe tbody tr th {\n",
              "        vertical-align: top;\n",
              "    }\n",
              "\n",
              "    .dataframe thead th {\n",
              "        text-align: right;\n",
              "    }\n",
              "</style>\n",
              "<table border=\"1\" class=\"dataframe\">\n",
              "  <thead>\n",
              "    <tr style=\"text-align: right;\">\n",
              "      <th></th>\n",
              "      <th>payment_creation_day</th>\n",
              "      <th>txn_reference</th>\n",
              "      <th>bin</th>\n",
              "      <th>funding_source</th>\n",
              "      <th>issuer_country_code</th>\n",
              "      <th>shopper_interaction</th>\n",
              "      <th>mcc</th>\n",
              "      <th>cvc_supplied</th>\n",
              "      <th>avs_supplied</th>\n",
              "      <th>transaction_amount</th>\n",
              "      <th>transaction_currency</th>\n",
              "      <th>interchange amount</th>\n",
              "      <th>interchang_currency</th>\n",
              "    </tr>\n",
              "  </thead>\n",
              "  <tbody>\n",
              "    <tr>\n",
              "      <th>688</th>\n",
              "      <td>10/09/2021</td>\n",
              "      <td>6456310000000000</td>\n",
              "      <td>405448</td>\n",
              "      <td>CREDIT</td>\n",
              "      <td>US</td>\n",
              "      <td>ContAuth</td>\n",
              "      <td>5310</td>\n",
              "      <td>False</td>\n",
              "      <td>No</td>\n",
              "      <td>9.99</td>\n",
              "      <td>USD</td>\n",
              "      <td>0.36973</td>\n",
              "      <td>USD</td>\n",
              "    </tr>\n",
              "    <tr>\n",
              "      <th>3611</th>\n",
              "      <td>10/09/2021</td>\n",
              "      <td>6456310000000000</td>\n",
              "      <td>405448</td>\n",
              "      <td>CREDIT</td>\n",
              "      <td>US</td>\n",
              "      <td>ContAuth</td>\n",
              "      <td>5310</td>\n",
              "      <td>False</td>\n",
              "      <td>No</td>\n",
              "      <td>9.99</td>\n",
              "      <td>USD</td>\n",
              "      <td>0.36973</td>\n",
              "      <td>USD</td>\n",
              "    </tr>\n",
              "  </tbody>\n",
              "</table>\n",
              "</div>"
            ],
            "text/plain": [
              "     payment_creation_day  ...  interchang_currency\n",
              "688            10/09/2021  ...                  USD\n",
              "3611           10/09/2021  ...                  USD\n",
              "\n",
              "[2 rows x 13 columns]"
            ]
          },
          "metadata": {},
          "execution_count": 7
        }
      ]
    },
    {
      "cell_type": "markdown",
      "metadata": {
        "id": "AEZyJBfiHYjm"
      },
      "source": [
        "#### Check Unique Values"
      ]
    },
    {
      "cell_type": "code",
      "metadata": {
        "colab": {
          "base_uri": "https://localhost:8080/"
        },
        "id": "JcoxnGaYGG34",
        "outputId": "d85ebe51-812f-484f-f90e-375c4313197e"
      },
      "source": [
        "columns = list(df.columns)\n",
        "\n",
        "for x in columns:\n",
        "  print(f'{x}: {len(df[x].unique())} types')\n",
        "\n",
        "# Only 5 unique values in my target column - 'interchange amount'"
      ],
      "execution_count": 8,
      "outputs": [
        {
          "output_type": "stream",
          "name": "stdout",
          "text": [
            "payment_creation_day: 30 types\n",
            "txn_reference: 173535 types\n",
            "bin: 1690 types\n",
            "funding_source: 3 types\n",
            "issuer_country_code: 1 types\n",
            "shopper_interaction: 2 types\n",
            "mcc: 2 types\n",
            "cvc_supplied: 3 types\n",
            "avs_supplied: 2 types\n",
            "transaction_amount: 1 types\n",
            "transaction_currency: 1 types\n",
            "interchange amount: 5 types\n",
            "interchang_currency: 1 types\n"
          ]
        }
      ]
    },
    {
      "cell_type": "markdown",
      "metadata": {
        "id": "--n1GezW2vlM"
      },
      "source": [
        "#### Find Null values"
      ]
    },
    {
      "cell_type": "code",
      "metadata": {
        "colab": {
          "base_uri": "https://localhost:8080/"
        },
        "id": "t3VjmpJdDgt-",
        "outputId": "61a9bdd5-e6e8-4726-fb74-4f34795437c6"
      },
      "source": [
        "df.isnull().sum()\n",
        "\n",
        "# Only null in cvc_supplied, find out if essential"
      ],
      "execution_count": 9,
      "outputs": [
        {
          "output_type": "execute_result",
          "data": {
            "text/plain": [
              "payment_creation_day        0\n",
              "txn_reference               0\n",
              "bin                         0\n",
              "funding_source              0\n",
              "issuer_country_code         0\n",
              "shopper_interaction         0\n",
              "mcc                         0\n",
              "cvc_supplied            17636\n",
              "avs_supplied                0\n",
              "transaction_amount          0\n",
              "transaction_currency        0\n",
              "interchange amount          0\n",
              "interchang_currency         0\n",
              "dtype: int64"
            ]
          },
          "metadata": {},
          "execution_count": 9
        }
      ]
    },
    {
      "cell_type": "code",
      "metadata": {
        "colab": {
          "base_uri": "https://localhost:8080/",
          "height": 396
        },
        "id": "gZ5W2gZcIGe8",
        "outputId": "ac04a1e5-518b-488e-b8a9-51364e7d3670"
      },
      "source": [
        "df.loc[df['cvc_supplied'].isnull(), :].head(10)\n",
        "\n",
        "# All other data is presented, rather not drop\n",
        "# Assuming its Missing At Random (MAR)"
      ],
      "execution_count": 10,
      "outputs": [
        {
          "output_type": "execute_result",
          "data": {
            "text/html": [
              "<div>\n",
              "<style scoped>\n",
              "    .dataframe tbody tr th:only-of-type {\n",
              "        vertical-align: middle;\n",
              "    }\n",
              "\n",
              "    .dataframe tbody tr th {\n",
              "        vertical-align: top;\n",
              "    }\n",
              "\n",
              "    .dataframe thead th {\n",
              "        text-align: right;\n",
              "    }\n",
              "</style>\n",
              "<table border=\"1\" class=\"dataframe\">\n",
              "  <thead>\n",
              "    <tr style=\"text-align: right;\">\n",
              "      <th></th>\n",
              "      <th>payment_creation_day</th>\n",
              "      <th>txn_reference</th>\n",
              "      <th>bin</th>\n",
              "      <th>funding_source</th>\n",
              "      <th>issuer_country_code</th>\n",
              "      <th>shopper_interaction</th>\n",
              "      <th>mcc</th>\n",
              "      <th>cvc_supplied</th>\n",
              "      <th>avs_supplied</th>\n",
              "      <th>transaction_amount</th>\n",
              "      <th>transaction_currency</th>\n",
              "      <th>interchange amount</th>\n",
              "      <th>interchang_currency</th>\n",
              "    </tr>\n",
              "  </thead>\n",
              "  <tbody>\n",
              "    <tr>\n",
              "      <th>4</th>\n",
              "      <td>02/09/2021</td>\n",
              "      <td>3326305969977557</td>\n",
              "      <td>491523</td>\n",
              "      <td>CREDIT</td>\n",
              "      <td>US</td>\n",
              "      <td>ContAuth</td>\n",
              "      <td>5310</td>\n",
              "      <td>NaN</td>\n",
              "      <td>Yes</td>\n",
              "      <td>9.99</td>\n",
              "      <td>USD</td>\n",
              "      <td>0.33976</td>\n",
              "      <td>USD</td>\n",
              "    </tr>\n",
              "    <tr>\n",
              "      <th>28</th>\n",
              "      <td>22/09/2021</td>\n",
              "      <td>3326322728568619</td>\n",
              "      <td>414720</td>\n",
              "      <td>CREDIT</td>\n",
              "      <td>US</td>\n",
              "      <td>Ecommerce</td>\n",
              "      <td>5311</td>\n",
              "      <td>NaN</td>\n",
              "      <td>No</td>\n",
              "      <td>9.99</td>\n",
              "      <td>USD</td>\n",
              "      <td>0.36973</td>\n",
              "      <td>USD</td>\n",
              "    </tr>\n",
              "    <tr>\n",
              "      <th>41</th>\n",
              "      <td>14/09/2021</td>\n",
              "      <td>3336315990332936</td>\n",
              "      <td>451723</td>\n",
              "      <td>CREDIT</td>\n",
              "      <td>US</td>\n",
              "      <td>ContAuth</td>\n",
              "      <td>5310</td>\n",
              "      <td>NaN</td>\n",
              "      <td>No</td>\n",
              "      <td>9.99</td>\n",
              "      <td>USD</td>\n",
              "      <td>0.36973</td>\n",
              "      <td>USD</td>\n",
              "    </tr>\n",
              "    <tr>\n",
              "      <th>57</th>\n",
              "      <td>29/09/2021</td>\n",
              "      <td>3336329498953358</td>\n",
              "      <td>461264</td>\n",
              "      <td>CREDIT</td>\n",
              "      <td>US</td>\n",
              "      <td>ContAuth</td>\n",
              "      <td>5310</td>\n",
              "      <td>NaN</td>\n",
              "      <td>Yes</td>\n",
              "      <td>9.99</td>\n",
              "      <td>USD</td>\n",
              "      <td>0.33976</td>\n",
              "      <td>USD</td>\n",
              "    </tr>\n",
              "    <tr>\n",
              "      <th>65</th>\n",
              "      <td>09/09/2021</td>\n",
              "      <td>3346311789880886</td>\n",
              "      <td>411398</td>\n",
              "      <td>CREDIT</td>\n",
              "      <td>US</td>\n",
              "      <td>ContAuth</td>\n",
              "      <td>5310</td>\n",
              "      <td>NaN</td>\n",
              "      <td>No</td>\n",
              "      <td>9.99</td>\n",
              "      <td>USD</td>\n",
              "      <td>0.36973</td>\n",
              "      <td>USD</td>\n",
              "    </tr>\n",
              "    <tr>\n",
              "      <th>83</th>\n",
              "      <td>05/09/2021</td>\n",
              "      <td>3356310000000000</td>\n",
              "      <td>400688</td>\n",
              "      <td>CREDIT</td>\n",
              "      <td>US</td>\n",
              "      <td>ContAuth</td>\n",
              "      <td>5310</td>\n",
              "      <td>NaN</td>\n",
              "      <td>No</td>\n",
              "      <td>9.99</td>\n",
              "      <td>USD</td>\n",
              "      <td>0.36973</td>\n",
              "      <td>USD</td>\n",
              "    </tr>\n",
              "    <tr>\n",
              "      <th>102</th>\n",
              "      <td>03/09/2021</td>\n",
              "      <td>3426307048111546</td>\n",
              "      <td>440066</td>\n",
              "      <td>CREDIT</td>\n",
              "      <td>US</td>\n",
              "      <td>Ecommerce</td>\n",
              "      <td>5310</td>\n",
              "      <td>NaN</td>\n",
              "      <td>Yes</td>\n",
              "      <td>9.99</td>\n",
              "      <td>USD</td>\n",
              "      <td>0.33976</td>\n",
              "      <td>USD</td>\n",
              "    </tr>\n",
              "    <tr>\n",
              "      <th>106</th>\n",
              "      <td>11/09/2021</td>\n",
              "      <td>3426313670564531</td>\n",
              "      <td>408950</td>\n",
              "      <td>CREDIT</td>\n",
              "      <td>US</td>\n",
              "      <td>ContAuth</td>\n",
              "      <td>5310</td>\n",
              "      <td>NaN</td>\n",
              "      <td>Yes</td>\n",
              "      <td>9.99</td>\n",
              "      <td>USD</td>\n",
              "      <td>0.33976</td>\n",
              "      <td>USD</td>\n",
              "    </tr>\n",
              "    <tr>\n",
              "      <th>109</th>\n",
              "      <td>15/09/2021</td>\n",
              "      <td>3426317176786746</td>\n",
              "      <td>440066</td>\n",
              "      <td>CREDIT</td>\n",
              "      <td>US</td>\n",
              "      <td>Ecommerce</td>\n",
              "      <td>5310</td>\n",
              "      <td>NaN</td>\n",
              "      <td>Yes</td>\n",
              "      <td>9.99</td>\n",
              "      <td>USD</td>\n",
              "      <td>0.33976</td>\n",
              "      <td>USD</td>\n",
              "    </tr>\n",
              "    <tr>\n",
              "      <th>137</th>\n",
              "      <td>06/09/2021</td>\n",
              "      <td>3446308918148564</td>\n",
              "      <td>410039</td>\n",
              "      <td>CREDIT</td>\n",
              "      <td>US</td>\n",
              "      <td>ContAuth</td>\n",
              "      <td>5310</td>\n",
              "      <td>NaN</td>\n",
              "      <td>No</td>\n",
              "      <td>9.99</td>\n",
              "      <td>USD</td>\n",
              "      <td>0.36973</td>\n",
              "      <td>USD</td>\n",
              "    </tr>\n",
              "  </tbody>\n",
              "</table>\n",
              "</div>"
            ],
            "text/plain": [
              "    payment_creation_day  ...  interchang_currency\n",
              "4             02/09/2021  ...                  USD\n",
              "28            22/09/2021  ...                  USD\n",
              "41            14/09/2021  ...                  USD\n",
              "57            29/09/2021  ...                  USD\n",
              "65            09/09/2021  ...                  USD\n",
              "83            05/09/2021  ...                  USD\n",
              "102           03/09/2021  ...                  USD\n",
              "106           11/09/2021  ...                  USD\n",
              "109           15/09/2021  ...                  USD\n",
              "137           06/09/2021  ...                  USD\n",
              "\n",
              "[10 rows x 13 columns]"
            ]
          },
          "metadata": {},
          "execution_count": 10
        }
      ]
    },
    {
      "cell_type": "markdown",
      "metadata": {
        "id": "CyX1_xlTNStn"
      },
      "source": [
        "### **Data Transformation**"
      ]
    },
    {
      "cell_type": "code",
      "metadata": {
        "colab": {
          "base_uri": "https://localhost:8080/"
        },
        "id": "Ko0G4kjuJVik",
        "outputId": "c44b77eb-f9c4-47ca-8199-4b23c4fb21b8"
      },
      "source": [
        "df['payment_creation_day'] = pd.to_datetime(df['payment_creation_day']) # make datetime\n",
        "df.info()"
      ],
      "execution_count": 11,
      "outputs": [
        {
          "output_type": "stream",
          "name": "stdout",
          "text": [
            "<class 'pandas.core.frame.DataFrame'>\n",
            "RangeIndex: 192428 entries, 0 to 192427\n",
            "Data columns (total 13 columns):\n",
            " #   Column                Non-Null Count   Dtype         \n",
            "---  ------                --------------   -----         \n",
            " 0   payment_creation_day  192428 non-null  datetime64[ns]\n",
            " 1   txn_reference         192428 non-null  int64         \n",
            " 2   bin                   192428 non-null  int64         \n",
            " 3   funding_source        192428 non-null  object        \n",
            " 4   issuer_country_code   192428 non-null  object        \n",
            " 5   shopper_interaction   192428 non-null  object        \n",
            " 6   mcc                   192428 non-null  int64         \n",
            " 7   cvc_supplied          174792 non-null  object        \n",
            " 8   avs_supplied          192428 non-null  object        \n",
            " 9   transaction_amount    192428 non-null  float64       \n",
            " 10  transaction_currency  192428 non-null  object        \n",
            " 11  interchange amount    192428 non-null  float64       \n",
            " 12  interchang_currency   192428 non-null  object        \n",
            "dtypes: datetime64[ns](1), float64(2), int64(3), object(7)\n",
            "memory usage: 19.1+ MB\n"
          ]
        }
      ]
    },
    {
      "cell_type": "markdown",
      "metadata": {
        "id": "LOxfMXG_JTSs"
      },
      "source": [
        "#### Create new columns"
      ]
    },
    {
      "cell_type": "code",
      "metadata": {
        "id": "BXuaeoWLXfzf"
      },
      "source": [
        "df['Year/Month'] = df['payment_creation_day'].dt.strftime('%Y-%m')\n",
        "df['Month'] = df['payment_creation_day'].dt.month\n",
        "df['ICA'] = df['interchange amount']"
      ],
      "execution_count": 12,
      "outputs": []
    },
    {
      "cell_type": "markdown",
      "metadata": {
        "id": "mHk_Hw8KJbSF"
      },
      "source": [
        "#### One-Hot Encoding (*Interchange Amount Count*)"
      ]
    },
    {
      "cell_type": "code",
      "metadata": {
        "id": "Z8W9MfLLGK2T"
      },
      "source": [
        "# Used one-hot encoding to classify each interchange amount since only 5 types\n",
        "\n",
        "def onehot(dataframe, feature):\n",
        "    dataframe = pd.get_dummies(dataframe, columns = [feature])\n",
        "    return dataframe;\n",
        "\n",
        "df = onehot(df, 'ICA')"
      ],
      "execution_count": 13,
      "outputs": []
    },
    {
      "cell_type": "code",
      "metadata": {
        "colab": {
          "base_uri": "https://localhost:8080/",
          "height": 241
        },
        "id": "3PWlF95jQU2L",
        "outputId": "b36fa3eb-b160-4ee1-85ee-79016cfb3ca4"
      },
      "source": [
        "df.tail()"
      ],
      "execution_count": 14,
      "outputs": [
        {
          "output_type": "execute_result",
          "data": {
            "text/html": [
              "<div>\n",
              "<style scoped>\n",
              "    .dataframe tbody tr th:only-of-type {\n",
              "        vertical-align: middle;\n",
              "    }\n",
              "\n",
              "    .dataframe tbody tr th {\n",
              "        vertical-align: top;\n",
              "    }\n",
              "\n",
              "    .dataframe thead th {\n",
              "        text-align: right;\n",
              "    }\n",
              "</style>\n",
              "<table border=\"1\" class=\"dataframe\">\n",
              "  <thead>\n",
              "    <tr style=\"text-align: right;\">\n",
              "      <th></th>\n",
              "      <th>payment_creation_day</th>\n",
              "      <th>txn_reference</th>\n",
              "      <th>bin</th>\n",
              "      <th>funding_source</th>\n",
              "      <th>issuer_country_code</th>\n",
              "      <th>shopper_interaction</th>\n",
              "      <th>mcc</th>\n",
              "      <th>cvc_supplied</th>\n",
              "      <th>avs_supplied</th>\n",
              "      <th>transaction_amount</th>\n",
              "      <th>transaction_currency</th>\n",
              "      <th>interchange amount</th>\n",
              "      <th>interchang_currency</th>\n",
              "      <th>Year/Month</th>\n",
              "      <th>Month</th>\n",
              "      <th>ICA_0.314835</th>\n",
              "      <th>ICA_0.33976</th>\n",
              "      <th>ICA_0.36973</th>\n",
              "      <th>ICA_0.374825</th>\n",
              "      <th>ICA_0.43981000000000003</th>\n",
              "    </tr>\n",
              "  </thead>\n",
              "  <tbody>\n",
              "    <tr>\n",
              "      <th>192423</th>\n",
              "      <td>2021-09-20</td>\n",
              "      <td>6856321547682552</td>\n",
              "      <td>438857</td>\n",
              "      <td>CREDIT</td>\n",
              "      <td>US</td>\n",
              "      <td>ContAuth</td>\n",
              "      <td>5310</td>\n",
              "      <td>False</td>\n",
              "      <td>Yes</td>\n",
              "      <td>9.99</td>\n",
              "      <td>USD</td>\n",
              "      <td>0.33976</td>\n",
              "      <td>USD</td>\n",
              "      <td>2021-09</td>\n",
              "      <td>9</td>\n",
              "      <td>0</td>\n",
              "      <td>1</td>\n",
              "      <td>0</td>\n",
              "      <td>0</td>\n",
              "      <td>0</td>\n",
              "    </tr>\n",
              "    <tr>\n",
              "      <th>192424</th>\n",
              "      <td>2021-09-28</td>\n",
              "      <td>6856328539972966</td>\n",
              "      <td>481869</td>\n",
              "      <td>CREDIT</td>\n",
              "      <td>US</td>\n",
              "      <td>ContAuth</td>\n",
              "      <td>5311</td>\n",
              "      <td>False</td>\n",
              "      <td>Yes</td>\n",
              "      <td>9.99</td>\n",
              "      <td>USD</td>\n",
              "      <td>0.33976</td>\n",
              "      <td>USD</td>\n",
              "      <td>2021-09</td>\n",
              "      <td>9</td>\n",
              "      <td>0</td>\n",
              "      <td>1</td>\n",
              "      <td>0</td>\n",
              "      <td>0</td>\n",
              "      <td>0</td>\n",
              "    </tr>\n",
              "    <tr>\n",
              "      <th>192425</th>\n",
              "      <td>2021-09-28</td>\n",
              "      <td>6856328655121927</td>\n",
              "      <td>440066</td>\n",
              "      <td>CREDIT</td>\n",
              "      <td>US</td>\n",
              "      <td>ContAuth</td>\n",
              "      <td>5311</td>\n",
              "      <td>False</td>\n",
              "      <td>No</td>\n",
              "      <td>9.99</td>\n",
              "      <td>USD</td>\n",
              "      <td>0.36973</td>\n",
              "      <td>USD</td>\n",
              "      <td>2021-09</td>\n",
              "      <td>9</td>\n",
              "      <td>0</td>\n",
              "      <td>0</td>\n",
              "      <td>1</td>\n",
              "      <td>0</td>\n",
              "      <td>0</td>\n",
              "    </tr>\n",
              "    <tr>\n",
              "      <th>192426</th>\n",
              "      <td>2021-09-29</td>\n",
              "      <td>6856329004450587</td>\n",
              "      <td>400278</td>\n",
              "      <td>CREDIT</td>\n",
              "      <td>US</td>\n",
              "      <td>ContAuth</td>\n",
              "      <td>5310</td>\n",
              "      <td>False</td>\n",
              "      <td>Yes</td>\n",
              "      <td>9.99</td>\n",
              "      <td>USD</td>\n",
              "      <td>0.33976</td>\n",
              "      <td>USD</td>\n",
              "      <td>2021-09</td>\n",
              "      <td>9</td>\n",
              "      <td>0</td>\n",
              "      <td>1</td>\n",
              "      <td>0</td>\n",
              "      <td>0</td>\n",
              "      <td>0</td>\n",
              "    </tr>\n",
              "    <tr>\n",
              "      <th>192427</th>\n",
              "      <td>2021-09-29</td>\n",
              "      <td>6856329486610815</td>\n",
              "      <td>400344</td>\n",
              "      <td>CREDIT</td>\n",
              "      <td>US</td>\n",
              "      <td>Ecommerce</td>\n",
              "      <td>5311</td>\n",
              "      <td>True</td>\n",
              "      <td>Yes</td>\n",
              "      <td>9.99</td>\n",
              "      <td>USD</td>\n",
              "      <td>0.33976</td>\n",
              "      <td>USD</td>\n",
              "      <td>2021-09</td>\n",
              "      <td>9</td>\n",
              "      <td>0</td>\n",
              "      <td>1</td>\n",
              "      <td>0</td>\n",
              "      <td>0</td>\n",
              "      <td>0</td>\n",
              "    </tr>\n",
              "  </tbody>\n",
              "</table>\n",
              "</div>"
            ],
            "text/plain": [
              "       payment_creation_day  ...  ICA_0.43981000000000003\n",
              "192423           2021-09-20  ...                        0\n",
              "192424           2021-09-28  ...                        0\n",
              "192425           2021-09-28  ...                        0\n",
              "192426           2021-09-29  ...                        0\n",
              "192427           2021-09-29  ...                        0\n",
              "\n",
              "[5 rows x 20 columns]"
            ]
          },
          "metadata": {},
          "execution_count": 14
        }
      ]
    },
    {
      "cell_type": "markdown",
      "metadata": {
        "id": "qUqf0PSBtiBr"
      },
      "source": [
        "### **Exploratory Data Analysis** (EDA)"
      ]
    },
    {
      "cell_type": "code",
      "metadata": {
        "id": "fZziWSn2cOCJ"
      },
      "source": [
        "ICA_col = ['ICA_0.314835', 'ICA_0.33976', 'ICA_0.36973', 'ICA_0.374825', 'ICA_0.43981000000000003']"
      ],
      "execution_count": 15,
      "outputs": []
    },
    {
      "cell_type": "markdown",
      "metadata": {
        "id": "-9eom5YlwTST"
      },
      "source": [
        "#### Percent of Interchange Fees"
      ]
    },
    {
      "cell_type": "code",
      "metadata": {
        "colab": {
          "base_uri": "https://localhost:8080/",
          "height": 435
        },
        "id": "hQkxYedis7zu",
        "outputId": "55220132-d8f7-4575-97a1-545c38d251d6"
      },
      "source": [
        "ica_percent = pd.DataFrame()\n",
        "ica_percent['ICA'] = ICA_col\n",
        "tcount_ica = df['interchange amount'].count()\n",
        "ica_ = []\n",
        "ica_count = []\n",
        "for x in ICA_col:\n",
        "  ica_count.append(df[x].sum())\n",
        "  ica_.append(round(df[x].sum()/tcount_ica*100, 2))\n",
        "\n",
        "plt.pie(ica_count, labels=ICA_col, wedgeprops = { 'linewidth' : 1, 'edgecolor' : 'white' })\n",
        "my_circle=plt.Circle( (0,0), 0.7, color='white')\n",
        "p=plt.gcf()\n",
        "p.gca().add_artist(my_circle)\n",
        "plt.show()\n",
        "\n",
        "ica_percent['Count'] = ica_count\n",
        "ica_percent['Pct of Total %'] = ica_\n",
        "ica_percent"
      ],
      "execution_count": 16,
      "outputs": [
        {
          "output_type": "display_data",
          "data": {
            "image/png": "[encoded data removed]",
            "text/plain": [
              "<Figure size 432x288 with 1 Axes>"
            ]
          },
          "metadata": {}
        },
        {
          "output_type": "execute_result",
          "data": {
            "text/html": [
              "<div>\n",
              "<style scoped>\n",
              "    .dataframe tbody tr th:only-of-type {\n",
              "        vertical-align: middle;\n",
              "    }\n",
              "\n",
              "    .dataframe tbody tr th {\n",
              "        vertical-align: top;\n",
              "    }\n",
              "\n",
              "    .dataframe thead th {\n",
              "        text-align: right;\n",
              "    }\n",
              "</style>\n",
              "<table border=\"1\" class=\"dataframe\">\n",
              "  <thead>\n",
              "    <tr style=\"text-align: right;\">\n",
              "      <th></th>\n",
              "      <th>ICA</th>\n",
              "      <th>Count</th>\n",
              "      <th>Pct of Total %</th>\n",
              "    </tr>\n",
              "  </thead>\n",
              "  <tbody>\n",
              "    <tr>\n",
              "      <th>0</th>\n",
              "      <td>ICA_0.314835</td>\n",
              "      <td>7498</td>\n",
              "      <td>3.90</td>\n",
              "    </tr>\n",
              "    <tr>\n",
              "      <th>1</th>\n",
              "      <td>ICA_0.33976</td>\n",
              "      <td>91601</td>\n",
              "      <td>47.60</td>\n",
              "    </tr>\n",
              "    <tr>\n",
              "      <th>2</th>\n",
              "      <td>ICA_0.36973</td>\n",
              "      <td>85529</td>\n",
              "      <td>44.45</td>\n",
              "    </tr>\n",
              "    <tr>\n",
              "      <th>3</th>\n",
              "      <td>ICA_0.374825</td>\n",
              "      <td>6131</td>\n",
              "      <td>3.19</td>\n",
              "    </tr>\n",
              "    <tr>\n",
              "      <th>4</th>\n",
              "      <td>ICA_0.43981000000000003</td>\n",
              "      <td>1669</td>\n",
              "      <td>0.87</td>\n",
              "    </tr>\n",
              "  </tbody>\n",
              "</table>\n",
              "</div>"
            ],
            "text/plain": [
              "                       ICA  Count  Pct of Total %\n",
              "0             ICA_0.314835   7498            3.90\n",
              "1              ICA_0.33976  91601           47.60\n",
              "2              ICA_0.36973  85529           44.45\n",
              "3             ICA_0.374825   6131            3.19\n",
              "4  ICA_0.43981000000000003   1669            0.87"
            ]
          },
          "metadata": {},
          "execution_count": 16
        }
      ]
    },
    {
      "cell_type": "markdown",
      "metadata": {
        "id": "YNgC1FO0rX8A"
      },
      "source": [
        "#### Payment Date - *ICA by Month*"
      ]
    },
    {
      "cell_type": "code",
      "metadata": {
        "colab": {
          "base_uri": "https://localhost:8080/",
          "height": 769
        },
        "id": "ZpCHQQGoPdxP",
        "outputId": "d6a25b5d-71f3-4c82-b854-37e0a9d6309d"
      },
      "source": [
        "PD = pd.DataFrame()\n",
        "MY_dict = {'MY_{}'.format(x):[] for x in ICA_col}\n",
        "for x in ICA_col:\n",
        "  PD[x] = MY_dict[x] = df.groupby('Year/Month').sum()[x]\n",
        "\n",
        "PD = PD.reset_index()\n",
        "PD.plot(x='Year/Month', figsize=(10, 5), marker='o', grid=True)\n",
        "plt.ylabel('Count')\n",
        "plt.xticks(rotation=90)\n",
        "\n",
        "PD\n",
        "# Large increase of .33976 and .36973 IC fees in '2019-09'\n",
        "# Nothing with top 2 rates"
      ],
      "execution_count": 17,
      "outputs": [
        {
          "output_type": "execute_result",
          "data": {
            "text/html": [
              "<div>\n",
              "<style scoped>\n",
              "    .dataframe tbody tr th:only-of-type {\n",
              "        vertical-align: middle;\n",
              "    }\n",
              "\n",
              "    .dataframe tbody tr th {\n",
              "        vertical-align: top;\n",
              "    }\n",
              "\n",
              "    .dataframe thead th {\n",
              "        text-align: right;\n",
              "    }\n",
              "</style>\n",
              "<table border=\"1\" class=\"dataframe\">\n",
              "  <thead>\n",
              "    <tr style=\"text-align: right;\">\n",
              "      <th></th>\n",
              "      <th>Year/Month</th>\n",
              "      <th>ICA_0.314835</th>\n",
              "      <th>ICA_0.33976</th>\n",
              "      <th>ICA_0.36973</th>\n",
              "      <th>ICA_0.374825</th>\n",
              "      <th>ICA_0.43981000000000003</th>\n",
              "    </tr>\n",
              "  </thead>\n",
              "  <tbody>\n",
              "    <tr>\n",
              "      <th>0</th>\n",
              "      <td>2021-01</td>\n",
              "      <td>3196.0</td>\n",
              "      <td>3762.0</td>\n",
              "      <td>2020.0</td>\n",
              "      <td>3071.0</td>\n",
              "      <td>7.0</td>\n",
              "    </tr>\n",
              "    <tr>\n",
              "      <th>1</th>\n",
              "      <td>2021-02</td>\n",
              "      <td>1005.0</td>\n",
              "      <td>3346.0</td>\n",
              "      <td>1915.0</td>\n",
              "      <td>1039.0</td>\n",
              "      <td>45.0</td>\n",
              "    </tr>\n",
              "    <tr>\n",
              "      <th>2</th>\n",
              "      <td>2021-03</td>\n",
              "      <td>135.0</td>\n",
              "      <td>3125.0</td>\n",
              "      <td>1979.0</td>\n",
              "      <td>110.0</td>\n",
              "      <td>71.0</td>\n",
              "    </tr>\n",
              "    <tr>\n",
              "      <th>3</th>\n",
              "      <td>2021-04</td>\n",
              "      <td>98.0</td>\n",
              "      <td>2899.0</td>\n",
              "      <td>1954.0</td>\n",
              "      <td>135.0</td>\n",
              "      <td>53.0</td>\n",
              "    </tr>\n",
              "    <tr>\n",
              "      <th>4</th>\n",
              "      <td>2021-05</td>\n",
              "      <td>104.0</td>\n",
              "      <td>3024.0</td>\n",
              "      <td>2357.0</td>\n",
              "      <td>110.0</td>\n",
              "      <td>55.0</td>\n",
              "    </tr>\n",
              "    <tr>\n",
              "      <th>5</th>\n",
              "      <td>2021-06</td>\n",
              "      <td>92.0</td>\n",
              "      <td>3611.0</td>\n",
              "      <td>2504.0</td>\n",
              "      <td>132.0</td>\n",
              "      <td>44.0</td>\n",
              "    </tr>\n",
              "    <tr>\n",
              "      <th>6</th>\n",
              "      <td>2021-07</td>\n",
              "      <td>207.0</td>\n",
              "      <td>3277.0</td>\n",
              "      <td>2677.0</td>\n",
              "      <td>79.0</td>\n",
              "      <td>59.0</td>\n",
              "    </tr>\n",
              "    <tr>\n",
              "      <th>7</th>\n",
              "      <td>2021-08</td>\n",
              "      <td>79.0</td>\n",
              "      <td>3166.0</td>\n",
              "      <td>2689.0</td>\n",
              "      <td>87.0</td>\n",
              "      <td>46.0</td>\n",
              "    </tr>\n",
              "    <tr>\n",
              "      <th>8</th>\n",
              "      <td>2021-09</td>\n",
              "      <td>2274.0</td>\n",
              "      <td>56992.0</td>\n",
              "      <td>59025.0</td>\n",
              "      <td>1146.0</td>\n",
              "      <td>1127.0</td>\n",
              "    </tr>\n",
              "    <tr>\n",
              "      <th>9</th>\n",
              "      <td>2021-10</td>\n",
              "      <td>188.0</td>\n",
              "      <td>2871.0</td>\n",
              "      <td>2831.0</td>\n",
              "      <td>75.0</td>\n",
              "      <td>58.0</td>\n",
              "    </tr>\n",
              "    <tr>\n",
              "      <th>10</th>\n",
              "      <td>2021-11</td>\n",
              "      <td>53.0</td>\n",
              "      <td>2631.0</td>\n",
              "      <td>2517.0</td>\n",
              "      <td>76.0</td>\n",
              "      <td>52.0</td>\n",
              "    </tr>\n",
              "    <tr>\n",
              "      <th>11</th>\n",
              "      <td>2021-12</td>\n",
              "      <td>67.0</td>\n",
              "      <td>2897.0</td>\n",
              "      <td>3061.0</td>\n",
              "      <td>71.0</td>\n",
              "      <td>52.0</td>\n",
              "    </tr>\n",
              "  </tbody>\n",
              "</table>\n",
              "</div>"
            ],
            "text/plain": [
              "   Year/Month  ICA_0.314835  ...  ICA_0.374825  ICA_0.43981000000000003\n",
              "0     2021-01        3196.0  ...        3071.0                      7.0\n",
              "1     2021-02        1005.0  ...        1039.0                     45.0\n",
              "2     2021-03         135.0  ...         110.0                     71.0\n",
              "3     2021-04          98.0  ...         135.0                     53.0\n",
              "4     2021-05         104.0  ...         110.0                     55.0\n",
              "5     2021-06          92.0  ...         132.0                     44.0\n",
              "6     2021-07         207.0  ...          79.0                     59.0\n",
              "7     2021-08          79.0  ...          87.0                     46.0\n",
              "8     2021-09        2274.0  ...        1146.0                   1127.0\n",
              "9     2021-10         188.0  ...          75.0                     58.0\n",
              "10    2021-11          53.0  ...          76.0                     52.0\n",
              "11    2021-12          67.0  ...          71.0                     52.0\n",
              "\n",
              "[12 rows x 6 columns]"
            ]
          },
          "metadata": {},
          "execution_count": 17
        },
        {
          "output_type": "display_data",
          "data": {
            "image/png": "[encoded data removed]",
            "text/plain": [
              "<Figure size 720x360 with 1 Axes>"
            ]
          },
          "metadata": {
            "needs_background": "light"
          }
        }
      ]
    },
    {
      "cell_type": "markdown",
      "metadata": {
        "id": "qcWSxZ8APYRf"
      },
      "source": [
        "#### Funding Source - *Debit vs Credit vs Prepaid*"
      ]
    },
    {
      "cell_type": "markdown",
      "metadata": {
        "id": "qkvvbx8zUcYw"
      },
      "source": [
        "##### Average ICA"
      ]
    },
    {
      "cell_type": "code",
      "metadata": {
        "colab": {
          "base_uri": "https://localhost:8080/",
          "height": 404
        },
        "id": "CYLNa7hew9_g",
        "outputId": "b5f16914-2250-4e90-9bdf-6b58d530d201"
      },
      "source": [
        "fs = df.groupby('funding_source').count()['interchang_currency'].reset_index().rename(columns={'interchang_currency':'count'})\n",
        "f_icc = fs['ICA Avg'] = df.groupby('funding_source').mean()['interchange amount'].values\n",
        "fund = [fund for fund, df in df.groupby('funding_source')]\n",
        "\n",
        "plt.bar(fund, f_icc)\n",
        "plt.xticks(fund)\n",
        "plt.ylim(min(f_icc)-0.05, max(f_icc)+0.05)\n",
        "plt.xlabel('Funding Source')\n",
        "plt.ylabel('Avg Interchange Amount ($)')\n",
        "plt.show()\n",
        "\n",
        "fs"
      ],
      "execution_count": 18,
      "outputs": [
        {
          "output_type": "display_data",
          "data": {
            "image/png": "[encoded data removed]",
            "text/plain": [
              "<Figure size 432x288 with 1 Axes>"
            ]
          },
          "metadata": {
            "needs_background": "light"
          }
        },
        {
          "output_type": "execute_result",
          "data": {
            "text/html": [
              "<div>\n",
              "<style scoped>\n",
              "    .dataframe tbody tr th:only-of-type {\n",
              "        vertical-align: middle;\n",
              "    }\n",
              "\n",
              "    .dataframe tbody tr th {\n",
              "        vertical-align: top;\n",
              "    }\n",
              "\n",
              "    .dataframe thead th {\n",
              "        text-align: right;\n",
              "    }\n",
              "</style>\n",
              "<table border=\"1\" class=\"dataframe\">\n",
              "  <thead>\n",
              "    <tr style=\"text-align: right;\">\n",
              "      <th></th>\n",
              "      <th>funding_source</th>\n",
              "      <th>count</th>\n",
              "      <th>ICA Avg</th>\n",
              "    </tr>\n",
              "  </thead>\n",
              "  <tbody>\n",
              "    <tr>\n",
              "      <th>0</th>\n",
              "      <td>CREDIT</td>\n",
              "      <td>177130</td>\n",
              "      <td>0.354231</td>\n",
              "    </tr>\n",
              "    <tr>\n",
              "      <th>1</th>\n",
              "      <td>DEBIT</td>\n",
              "      <td>9000</td>\n",
              "      <td>0.335692</td>\n",
              "    </tr>\n",
              "    <tr>\n",
              "      <th>2</th>\n",
              "      <td>PREPAID</td>\n",
              "      <td>6298</td>\n",
              "      <td>0.376548</td>\n",
              "    </tr>\n",
              "  </tbody>\n",
              "</table>\n",
              "</div>"
            ],
            "text/plain": [
              "  funding_source   count   ICA Avg\n",
              "0         CREDIT  177130  0.354231\n",
              "1          DEBIT    9000  0.335692\n",
              "2        PREPAID    6298  0.376548"
            ]
          },
          "metadata": {},
          "execution_count": 18
        }
      ]
    },
    {
      "cell_type": "markdown",
      "metadata": {
        "id": "pOwsaatSUhwC"
      },
      "source": [
        "##### Count by ICA Type"
      ]
    },
    {
      "cell_type": "code",
      "metadata": {
        "colab": {
          "base_uri": "https://localhost:8080/",
          "height": 437
        },
        "id": "67lKdoC-PUQX",
        "outputId": "02dd7c64-075b-46a2-d3f0-4b953976fa41"
      },
      "source": [
        "fund = [fund for fund, df in df.groupby('funding_source')]\n",
        "fica = pd.DataFrame(fund, columns=['funding_source'])\n",
        "for x in ICA_col:\n",
        "  fica[x] = df.groupby('funding_source').sum()[x].astype(int).values\n",
        "\n",
        "fica.plot(x='funding_source', kind='bar',stacked=False)\n",
        "plt.ylabel('Count')\n",
        "\n",
        "fica\n",
        "# All credit charged .33976 or .36973\n",
        "# All debit charged .314835 or .43981\n",
        "# All prepaid charged .374825 or .43981\n",
        "# Assumed direct factor"
      ],
      "execution_count": 19,
      "outputs": [
        {
          "output_type": "execute_result",
          "data": {
            "text/html": [
              "<div>\n",
              "<style scoped>\n",
              "    .dataframe tbody tr th:only-of-type {\n",
              "        vertical-align: middle;\n",
              "    }\n",
              "\n",
              "    .dataframe tbody tr th {\n",
              "        vertical-align: top;\n",
              "    }\n",
              "\n",
              "    .dataframe thead th {\n",
              "        text-align: right;\n",
              "    }\n",
              "</style>\n",
              "<table border=\"1\" class=\"dataframe\">\n",
              "  <thead>\n",
              "    <tr style=\"text-align: right;\">\n",
              "      <th></th>\n",
              "      <th>funding_source</th>\n",
              "      <th>ICA_0.314835</th>\n",
              "      <th>ICA_0.33976</th>\n",
              "      <th>ICA_0.36973</th>\n",
              "      <th>ICA_0.374825</th>\n",
              "      <th>ICA_0.43981000000000003</th>\n",
              "    </tr>\n",
              "  </thead>\n",
              "  <tbody>\n",
              "    <tr>\n",
              "      <th>0</th>\n",
              "      <td>CREDIT</td>\n",
              "      <td>0</td>\n",
              "      <td>91601</td>\n",
              "      <td>85529</td>\n",
              "      <td>0</td>\n",
              "      <td>0</td>\n",
              "    </tr>\n",
              "    <tr>\n",
              "      <th>1</th>\n",
              "      <td>DEBIT</td>\n",
              "      <td>7498</td>\n",
              "      <td>0</td>\n",
              "      <td>0</td>\n",
              "      <td>0</td>\n",
              "      <td>1502</td>\n",
              "    </tr>\n",
              "    <tr>\n",
              "      <th>2</th>\n",
              "      <td>PREPAID</td>\n",
              "      <td>0</td>\n",
              "      <td>0</td>\n",
              "      <td>0</td>\n",
              "      <td>6131</td>\n",
              "      <td>167</td>\n",
              "    </tr>\n",
              "  </tbody>\n",
              "</table>\n",
              "</div>"
            ],
            "text/plain": [
              "  funding_source  ICA_0.314835  ...  ICA_0.374825  ICA_0.43981000000000003\n",
              "0         CREDIT             0  ...             0                        0\n",
              "1          DEBIT          7498  ...             0                     1502\n",
              "2        PREPAID             0  ...          6131                      167\n",
              "\n",
              "[3 rows x 6 columns]"
            ]
          },
          "metadata": {},
          "execution_count": 19
        },
        {
          "output_type": "display_data",
          "data": {
            "image/png": "[encoded data removed]",
            "text/plain": [
              "<Figure size 432x288 with 1 Axes>"
            ]
          },
          "metadata": {
            "needs_background": "light"
          }
        }
      ]
    },
    {
      "cell_type": "markdown",
      "metadata": {
        "id": "wR_Pm2wT9h7V"
      },
      "source": [
        "#### Shopper Interaction - *ContAuth vs E-Commerce* "
      ]
    },
    {
      "cell_type": "markdown",
      "metadata": {
        "id": "zmNtE-Vg73Op"
      },
      "source": [
        "##### Average ICA"
      ]
    },
    {
      "cell_type": "code",
      "metadata": {
        "colab": {
          "base_uri": "https://localhost:8080/",
          "height": 373
        },
        "id": "eOsS2vMH-RNF",
        "outputId": "b99f6cd5-54cf-4cd4-fe4e-96ba26632b1e"
      },
      "source": [
        "si = df.groupby('shopper_interaction').count()['interchang_currency'].reset_index().rename(columns={'interchang_currency':'count'})\n",
        "si_icc = si['ICC Avg'] = df.groupby('shopper_interaction').mean()['interchange amount'].values\n",
        "shop = [fund for fund, df in df.groupby('shopper_interaction')]\n",
        "\n",
        "plt.bar(shop, si_icc)\n",
        "plt.xticks(shop)\n",
        "plt.ylim(min(si_icc)-0.05, max(si_icc)+0.05)\n",
        "plt.xlabel('Shopper Interaction')\n",
        "plt.ylabel('Avg Interchange Amount ($)')\n",
        "plt.show()\n",
        "\n",
        "si"
      ],
      "execution_count": 20,
      "outputs": [
        {
          "output_type": "display_data",
          "data": {
            "image/png": "[encoded data removed]",
            "text/plain": [
              "<Figure size 432x288 with 1 Axes>"
            ]
          },
          "metadata": {
            "needs_background": "light"
          }
        },
        {
          "output_type": "execute_result",
          "data": {
            "text/html": [
              "<div>\n",
              "<style scoped>\n",
              "    .dataframe tbody tr th:only-of-type {\n",
              "        vertical-align: middle;\n",
              "    }\n",
              "\n",
              "    .dataframe tbody tr th {\n",
              "        vertical-align: top;\n",
              "    }\n",
              "\n",
              "    .dataframe thead th {\n",
              "        text-align: right;\n",
              "    }\n",
              "</style>\n",
              "<table border=\"1\" class=\"dataframe\">\n",
              "  <thead>\n",
              "    <tr style=\"text-align: right;\">\n",
              "      <th></th>\n",
              "      <th>shopper_interaction</th>\n",
              "      <th>count</th>\n",
              "      <th>ICC Avg</th>\n",
              "    </tr>\n",
              "  </thead>\n",
              "  <tbody>\n",
              "    <tr>\n",
              "      <th>0</th>\n",
              "      <td>ContAuth</td>\n",
              "      <td>156689</td>\n",
              "      <td>0.352105</td>\n",
              "    </tr>\n",
              "    <tr>\n",
              "      <th>1</th>\n",
              "      <td>Ecommerce</td>\n",
              "      <td>35739</td>\n",
              "      <td>0.362817</td>\n",
              "    </tr>\n",
              "  </tbody>\n",
              "</table>\n",
              "</div>"
            ],
            "text/plain": [
              "  shopper_interaction   count   ICC Avg\n",
              "0            ContAuth  156689  0.352105\n",
              "1           Ecommerce   35739  0.362817"
            ]
          },
          "metadata": {},
          "execution_count": 20
        }
      ]
    },
    {
      "cell_type": "markdown",
      "metadata": {
        "id": "Jok2sq3M8KeE"
      },
      "source": [
        "##### Count by ICA Type"
      ]
    },
    {
      "cell_type": "code",
      "metadata": {
        "colab": {
          "base_uri": "https://localhost:8080/",
          "height": 423
        },
        "id": "QlfVq9bnVut0",
        "outputId": "6f3e1bc5-1007-4bf8-a605-63eb993c18ba"
      },
      "source": [
        "shop = [fund for fund, df in df.groupby('shopper_interaction')]\n",
        "sica = pd.DataFrame(shop, columns=['shopper_interaction'])\n",
        "for x in ICA_col:\n",
        "  sica[x] = df.groupby('shopper_interaction').sum()[x].astype(int).values\n",
        "\n",
        "sica.plot(x='shopper_interaction', kind='bar',stacked=False)\n",
        "plt.ylabel('Count')\n",
        "sica"
      ],
      "execution_count": 21,
      "outputs": [
        {
          "output_type": "execute_result",
          "data": {
            "text/html": [
              "<div>\n",
              "<style scoped>\n",
              "    .dataframe tbody tr th:only-of-type {\n",
              "        vertical-align: middle;\n",
              "    }\n",
              "\n",
              "    .dataframe tbody tr th {\n",
              "        vertical-align: top;\n",
              "    }\n",
              "\n",
              "    .dataframe thead th {\n",
              "        text-align: right;\n",
              "    }\n",
              "</style>\n",
              "<table border=\"1\" class=\"dataframe\">\n",
              "  <thead>\n",
              "    <tr style=\"text-align: right;\">\n",
              "      <th></th>\n",
              "      <th>shopper_interaction</th>\n",
              "      <th>ICA_0.314835</th>\n",
              "      <th>ICA_0.33976</th>\n",
              "      <th>ICA_0.36973</th>\n",
              "      <th>ICA_0.374825</th>\n",
              "      <th>ICA_0.43981000000000003</th>\n",
              "    </tr>\n",
              "  </thead>\n",
              "  <tbody>\n",
              "    <tr>\n",
              "      <th>0</th>\n",
              "      <td>ContAuth</td>\n",
              "      <td>6379</td>\n",
              "      <td>84848</td>\n",
              "      <td>59558</td>\n",
              "      <td>4344</td>\n",
              "      <td>1560</td>\n",
              "    </tr>\n",
              "    <tr>\n",
              "      <th>1</th>\n",
              "      <td>Ecommerce</td>\n",
              "      <td>1119</td>\n",
              "      <td>6753</td>\n",
              "      <td>25971</td>\n",
              "      <td>1787</td>\n",
              "      <td>109</td>\n",
              "    </tr>\n",
              "  </tbody>\n",
              "</table>\n",
              "</div>"
            ],
            "text/plain": [
              "  shopper_interaction  ICA_0.314835  ...  ICA_0.374825  ICA_0.43981000000000003\n",
              "0            ContAuth          6379  ...          4344                     1560\n",
              "1           Ecommerce          1119  ...          1787                      109\n",
              "\n",
              "[2 rows x 6 columns]"
            ]
          },
          "metadata": {},
          "execution_count": 21
        },
        {
          "output_type": "display_data",
          "data": {
            "image/png": "[encoded data removed]",
            "text/plain": [
              "<Figure size 432x288 with 1 Axes>"
            ]
          },
          "metadata": {
            "needs_background": "light"
          }
        }
      ]
    },
    {
      "cell_type": "markdown",
      "metadata": {
        "id": "RsetoUOl-0Zc"
      },
      "source": [
        "#### Merchant Category Code (MCC) - *5310 vs 5311*"
      ]
    },
    {
      "cell_type": "markdown",
      "metadata": {
        "id": "rPHKoOyr74xW"
      },
      "source": [
        "##### Average ICA"
      ]
    },
    {
      "cell_type": "code",
      "metadata": {
        "colab": {
          "base_uri": "https://localhost:8080/",
          "height": 373
        },
        "id": "0AW-J8S8wLdy",
        "outputId": "295ebca3-ab7e-4e14-fd36-4659f84ee3dc"
      },
      "source": [
        "mcc = df.groupby('mcc').count()['interchang_currency'].reset_index().rename(columns={'interchang_currency':'count'})\n",
        "mcc_icc = mcc['ICC Avg'] = df.groupby('mcc').mean()['interchange amount'].values\n",
        "mc = [fund for fund, df in df.groupby('mcc')]\n",
        "\n",
        "plt.bar(mc, mcc_icc)\n",
        "plt.xticks(mc)\n",
        "plt.ylim(min(mcc_icc)-0.05, max(mcc_icc)+0.05)\n",
        "plt.xlabel('Merchant Category Code (MCC)')\n",
        "plt.ylabel('Avg Interchange Amount ($)')\n",
        "plt.show()\n",
        "\n",
        "mcc"
      ],
      "execution_count": 22,
      "outputs": [
        {
          "output_type": "display_data",
          "data": {
            "image/png": "[encoded data removed]",
            "text/plain": [
              "<Figure size 432x288 with 1 Axes>"
            ]
          },
          "metadata": {
            "needs_background": "light"
          }
        },
        {
          "output_type": "execute_result",
          "data": {
            "text/html": [
              "<div>\n",
              "<style scoped>\n",
              "    .dataframe tbody tr th:only-of-type {\n",
              "        vertical-align: middle;\n",
              "    }\n",
              "\n",
              "    .dataframe tbody tr th {\n",
              "        vertical-align: top;\n",
              "    }\n",
              "\n",
              "    .dataframe thead th {\n",
              "        text-align: right;\n",
              "    }\n",
              "</style>\n",
              "<table border=\"1\" class=\"dataframe\">\n",
              "  <thead>\n",
              "    <tr style=\"text-align: right;\">\n",
              "      <th></th>\n",
              "      <th>mcc</th>\n",
              "      <th>count</th>\n",
              "      <th>ICC Avg</th>\n",
              "    </tr>\n",
              "  </thead>\n",
              "  <tbody>\n",
              "    <tr>\n",
              "      <th>0</th>\n",
              "      <td>5310</td>\n",
              "      <td>120519</td>\n",
              "      <td>0.354177</td>\n",
              "    </tr>\n",
              "    <tr>\n",
              "      <th>1</th>\n",
              "      <td>5311</td>\n",
              "      <td>71909</td>\n",
              "      <td>0.353957</td>\n",
              "    </tr>\n",
              "  </tbody>\n",
              "</table>\n",
              "</div>"
            ],
            "text/plain": [
              "    mcc   count   ICC Avg\n",
              "0  5310  120519  0.354177\n",
              "1  5311   71909  0.353957"
            ]
          },
          "metadata": {},
          "execution_count": 22
        }
      ]
    },
    {
      "cell_type": "markdown",
      "metadata": {
        "id": "cZZDrc0T8Mjt"
      },
      "source": [
        "##### Count by ICA Type"
      ]
    },
    {
      "cell_type": "code",
      "metadata": {
        "colab": {
          "base_uri": "https://localhost:8080/",
          "height": 389
        },
        "id": "w9wlii9kXvST",
        "outputId": "a2d6f87c-4eca-4da2-adf4-c730b2eeb9aa"
      },
      "source": [
        "mc = [fund for fund, df in df.groupby('mcc')]\n",
        "mccica = pd.DataFrame(mc, columns=['mcc'])\n",
        "for x in ICA_col:\n",
        "  mccica[x] = df.groupby('mcc').sum()[x].astype(int).values\n",
        "\n",
        "mccica.plot(x='mcc', kind='bar',stacked=False)\n",
        "plt.ylabel('Count')\n",
        "mccica"
      ],
      "execution_count": 23,
      "outputs": [
        {
          "output_type": "execute_result",
          "data": {
            "text/html": [
              "<div>\n",
              "<style scoped>\n",
              "    .dataframe tbody tr th:only-of-type {\n",
              "        vertical-align: middle;\n",
              "    }\n",
              "\n",
              "    .dataframe tbody tr th {\n",
              "        vertical-align: top;\n",
              "    }\n",
              "\n",
              "    .dataframe thead th {\n",
              "        text-align: right;\n",
              "    }\n",
              "</style>\n",
              "<table border=\"1\" class=\"dataframe\">\n",
              "  <thead>\n",
              "    <tr style=\"text-align: right;\">\n",
              "      <th></th>\n",
              "      <th>mcc</th>\n",
              "      <th>ICA_0.314835</th>\n",
              "      <th>ICA_0.33976</th>\n",
              "      <th>ICA_0.36973</th>\n",
              "      <th>ICA_0.374825</th>\n",
              "      <th>ICA_0.43981000000000003</th>\n",
              "    </tr>\n",
              "  </thead>\n",
              "  <tbody>\n",
              "    <tr>\n",
              "      <th>0</th>\n",
              "      <td>5310</td>\n",
              "      <td>3453</td>\n",
              "      <td>58787</td>\n",
              "      <td>55078</td>\n",
              "      <td>2268</td>\n",
              "      <td>933</td>\n",
              "    </tr>\n",
              "    <tr>\n",
              "      <th>1</th>\n",
              "      <td>5311</td>\n",
              "      <td>4045</td>\n",
              "      <td>32814</td>\n",
              "      <td>30451</td>\n",
              "      <td>3863</td>\n",
              "      <td>736</td>\n",
              "    </tr>\n",
              "  </tbody>\n",
              "</table>\n",
              "</div>"
            ],
            "text/plain": [
              "    mcc  ICA_0.314835  ...  ICA_0.374825  ICA_0.43981000000000003\n",
              "0  5310          3453  ...          2268                      933\n",
              "1  5311          4045  ...          3863                      736\n",
              "\n",
              "[2 rows x 6 columns]"
            ]
          },
          "metadata": {},
          "execution_count": 23
        },
        {
          "output_type": "display_data",
          "data": {
            "image/png": "[encoded data removed]",
            "text/plain": [
              "<Figure size 432x288 with 1 Axes>"
            ]
          },
          "metadata": {
            "needs_background": "light"
          }
        }
      ]
    },
    {
      "cell_type": "markdown",
      "metadata": {
        "id": "tkgSmwe5CWHa"
      },
      "source": [
        "#### Card Verification Number (CVC) - *True vs False vs NaN*"
      ]
    },
    {
      "cell_type": "markdown",
      "metadata": {
        "id": "ItivKQbU75zm"
      },
      "source": [
        "##### Average ICA"
      ]
    },
    {
      "cell_type": "code",
      "metadata": {
        "colab": {
          "base_uri": "https://localhost:8080/",
          "height": 404
        },
        "id": "E5GLR69PBCDb",
        "outputId": "9bab2285-3156-44c6-fa01-993b6669b8b9"
      },
      "source": [
        "cvc = df.groupby('cvc_supplied', dropna=False).count()['interchang_currency'].reset_index().rename(columns={'interchang_currency':'count'})\n",
        "cvc_icc = cvc['ICC Avg'] = df.groupby('cvc_supplied', dropna=False).mean()['interchange amount'].values\n",
        "cv = [str(fund) for fund, df in df.groupby('cvc_supplied', dropna=False)]\n",
        "\n",
        "plt.bar(cv, cvc_icc)\n",
        "plt.xticks(cv)\n",
        "plt.ylim(min(cvc_icc)-0.05, max(cvc_icc)+0.05)\n",
        "plt.xlabel('Card Verification Number (CVC)')\n",
        "plt.ylabel('Avg Interchange Amount ($)')\n",
        "plt.show()\n",
        "\n",
        "cvc"
      ],
      "execution_count": 24,
      "outputs": [
        {
          "output_type": "display_data",
          "data": {
            "image/png": "[encoded data removed]",
            "text/plain": [
              "<Figure size 432x288 with 1 Axes>"
            ]
          },
          "metadata": {
            "needs_background": "light"
          }
        },
        {
          "output_type": "execute_result",
          "data": {
            "text/html": [
              "<div>\n",
              "<style scoped>\n",
              "    .dataframe tbody tr th:only-of-type {\n",
              "        vertical-align: middle;\n",
              "    }\n",
              "\n",
              "    .dataframe tbody tr th {\n",
              "        vertical-align: top;\n",
              "    }\n",
              "\n",
              "    .dataframe thead th {\n",
              "        text-align: right;\n",
              "    }\n",
              "</style>\n",
              "<table border=\"1\" class=\"dataframe\">\n",
              "  <thead>\n",
              "    <tr style=\"text-align: right;\">\n",
              "      <th></th>\n",
              "      <th>cvc_supplied</th>\n",
              "      <th>count</th>\n",
              "      <th>ICC Avg</th>\n",
              "    </tr>\n",
              "  </thead>\n",
              "  <tbody>\n",
              "    <tr>\n",
              "      <th>0</th>\n",
              "      <td>False</td>\n",
              "      <td>149344</td>\n",
              "      <td>0.353130</td>\n",
              "    </tr>\n",
              "    <tr>\n",
              "      <th>1</th>\n",
              "      <td>True</td>\n",
              "      <td>25448</td>\n",
              "      <td>0.359869</td>\n",
              "    </tr>\n",
              "    <tr>\n",
              "      <th>2</th>\n",
              "      <td>NaN</td>\n",
              "      <td>17636</td>\n",
              "      <td>0.353928</td>\n",
              "    </tr>\n",
              "  </tbody>\n",
              "</table>\n",
              "</div>"
            ],
            "text/plain": [
              "  cvc_supplied   count   ICC Avg\n",
              "0        False  149344  0.353130\n",
              "1         True   25448  0.359869\n",
              "2          NaN   17636  0.353928"
            ]
          },
          "metadata": {},
          "execution_count": 24
        }
      ]
    },
    {
      "cell_type": "markdown",
      "metadata": {
        "id": "NperWkk28Nm9"
      },
      "source": [
        "##### Count by ICA Type"
      ]
    },
    {
      "cell_type": "code",
      "metadata": {
        "colab": {
          "base_uri": "https://localhost:8080/",
          "height": 420
        },
        "id": "a8qEOdkbWqam",
        "outputId": "5c4299a4-c858-4067-97a2-dc72be2ecdac"
      },
      "source": [
        "cv = [str(fund) for fund, df in df.groupby('cvc_supplied', dropna=False)]\n",
        "cvica = pd.DataFrame(cv, columns=['cvc_supplied'])\n",
        "for x in ICA_col:\n",
        "  cvica[x] = df.groupby('cvc_supplied', dropna=False).sum()[x].astype(int).values\n",
        "\n",
        "cvica.plot(x='cvc_supplied', kind='bar',stacked=False)\n",
        "plt.ylabel('Count')\n",
        "cvica"
      ],
      "execution_count": 25,
      "outputs": [
        {
          "output_type": "execute_result",
          "data": {
            "text/html": [
              "<div>\n",
              "<style scoped>\n",
              "    .dataframe tbody tr th:only-of-type {\n",
              "        vertical-align: middle;\n",
              "    }\n",
              "\n",
              "    .dataframe tbody tr th {\n",
              "        vertical-align: top;\n",
              "    }\n",
              "\n",
              "    .dataframe thead th {\n",
              "        text-align: right;\n",
              "    }\n",
              "</style>\n",
              "<table border=\"1\" class=\"dataframe\">\n",
              "  <thead>\n",
              "    <tr style=\"text-align: right;\">\n",
              "      <th></th>\n",
              "      <th>cvc_supplied</th>\n",
              "      <th>ICA_0.314835</th>\n",
              "      <th>ICA_0.33976</th>\n",
              "      <th>ICA_0.36973</th>\n",
              "      <th>ICA_0.374825</th>\n",
              "      <th>ICA_0.43981000000000003</th>\n",
              "    </tr>\n",
              "  </thead>\n",
              "  <tbody>\n",
              "    <tr>\n",
              "      <th>0</th>\n",
              "      <td>False</td>\n",
              "      <td>6353</td>\n",
              "      <td>75137</td>\n",
              "      <td>62094</td>\n",
              "      <td>4341</td>\n",
              "      <td>1419</td>\n",
              "    </tr>\n",
              "    <tr>\n",
              "      <th>1</th>\n",
              "      <td>True</td>\n",
              "      <td>1145</td>\n",
              "      <td>6861</td>\n",
              "      <td>15532</td>\n",
              "      <td>1790</td>\n",
              "      <td>120</td>\n",
              "    </tr>\n",
              "    <tr>\n",
              "      <th>2</th>\n",
              "      <td>nan</td>\n",
              "      <td>0</td>\n",
              "      <td>9603</td>\n",
              "      <td>7903</td>\n",
              "      <td>0</td>\n",
              "      <td>130</td>\n",
              "    </tr>\n",
              "  </tbody>\n",
              "</table>\n",
              "</div>"
            ],
            "text/plain": [
              "  cvc_supplied  ICA_0.314835  ...  ICA_0.374825  ICA_0.43981000000000003\n",
              "0        False          6353  ...          4341                     1419\n",
              "1         True          1145  ...          1790                      120\n",
              "2          nan             0  ...             0                      130\n",
              "\n",
              "[3 rows x 6 columns]"
            ]
          },
          "metadata": {},
          "execution_count": 25
        },
        {
          "output_type": "display_data",
          "data": {
            "image/png": "[encoded data removed]",
            "text/plain": [
              "<Figure size 432x288 with 1 Axes>"
            ]
          },
          "metadata": {
            "needs_background": "light"
          }
        }
      ]
    },
    {
      "cell_type": "markdown",
      "metadata": {
        "id": "weRD_oUlFGv1"
      },
      "source": [
        "#### Address Data Supplied (AVS) - *Yes vs No*"
      ]
    },
    {
      "cell_type": "markdown",
      "metadata": {
        "id": "2B_t3B6J7-FX"
      },
      "source": [
        "##### Average ICA"
      ]
    },
    {
      "cell_type": "code",
      "metadata": {
        "colab": {
          "base_uri": "https://localhost:8080/",
          "height": 376
        },
        "id": "COL55RBTC6_T",
        "outputId": "85315ea8-563b-40bc-a2ed-d36eb0b8720c"
      },
      "source": [
        "avs = df.groupby('avs_supplied', dropna=False).count()['interchang_currency'].reset_index().rename(columns={'interchang_currency':'count'})\n",
        "avs_icc = avs['ICC Avg'] = df.groupby('avs_supplied', dropna=False).mean()['interchange amount'].values\n",
        "av = [fund for fund, df in df.groupby('avs_supplied', dropna=False)]\n",
        "\n",
        "plt.bar(av, avs_icc)\n",
        "plt.xticks(av)\n",
        "plt.ylim(min(avs_icc)-0.05, max(avs_icc)+0.05)\n",
        "plt.xlabel('Card Verification Number (CVC)')\n",
        "plt.ylabel('Avg Interchange Amount ($)')\n",
        "plt.show()\n",
        "\n",
        "avs"
      ],
      "execution_count": 26,
      "outputs": [
        {
          "output_type": "display_data",
          "data": {
            "image/png": "[encoded data removed]",
            "text/plain": [
              "<Figure size 432x288 with 1 Axes>"
            ]
          },
          "metadata": {
            "needs_background": "light"
          }
        },
        {
          "output_type": "execute_result",
          "data": {
            "text/html": [
              "<div>\n",
              "<style scoped>\n",
              "    .dataframe tbody tr th:only-of-type {\n",
              "        vertical-align: middle;\n",
              "    }\n",
              "\n",
              "    .dataframe tbody tr th {\n",
              "        vertical-align: top;\n",
              "    }\n",
              "\n",
              "    .dataframe thead th {\n",
              "        text-align: right;\n",
              "    }\n",
              "</style>\n",
              "<table border=\"1\" class=\"dataframe\">\n",
              "  <thead>\n",
              "    <tr style=\"text-align: right;\">\n",
              "      <th></th>\n",
              "      <th>avs_supplied</th>\n",
              "      <th>count</th>\n",
              "      <th>ICC Avg</th>\n",
              "    </tr>\n",
              "  </thead>\n",
              "  <tbody>\n",
              "    <tr>\n",
              "      <th>0</th>\n",
              "      <td>No</td>\n",
              "      <td>87198</td>\n",
              "      <td>0.371071</td>\n",
              "    </tr>\n",
              "    <tr>\n",
              "      <th>1</th>\n",
              "      <td>Yes</td>\n",
              "      <td>105230</td>\n",
              "      <td>0.340027</td>\n",
              "    </tr>\n",
              "  </tbody>\n",
              "</table>\n",
              "</div>"
            ],
            "text/plain": [
              "  avs_supplied   count   ICC Avg\n",
              "0           No   87198  0.371071\n",
              "1          Yes  105230  0.340027"
            ]
          },
          "metadata": {},
          "execution_count": 26
        }
      ]
    },
    {
      "cell_type": "markdown",
      "metadata": {
        "id": "cYTop6l08Ogn"
      },
      "source": [
        "##### Count by ICA Type"
      ]
    },
    {
      "cell_type": "code",
      "metadata": {
        "id": "vBJHSfui7GGy",
        "colab": {
          "base_uri": "https://localhost:8080/",
          "height": 380
        },
        "outputId": "ae2d5bc1-0fec-48fa-f1d9-274bdf5de98a"
      },
      "source": [
        "av = [fund for fund, df in df.groupby('avs_supplied')]\n",
        "avica = pd.DataFrame(av, columns=['avs_supplied'])\n",
        "for x in ICA_col:\n",
        "  avica[x] = df.groupby('avs_supplied').sum()[x].astype(int).values\n",
        "\n",
        "avica.plot(x='avs_supplied', kind='bar',stacked=False)\n",
        "plt.ylabel('Count')\n",
        "avica"
      ],
      "execution_count": 27,
      "outputs": [
        {
          "output_type": "execute_result",
          "data": {
            "text/html": [
              "<div>\n",
              "<style scoped>\n",
              "    .dataframe tbody tr th:only-of-type {\n",
              "        vertical-align: middle;\n",
              "    }\n",
              "\n",
              "    .dataframe tbody tr th {\n",
              "        vertical-align: top;\n",
              "    }\n",
              "\n",
              "    .dataframe thead th {\n",
              "        text-align: right;\n",
              "    }\n",
              "</style>\n",
              "<table border=\"1\" class=\"dataframe\">\n",
              "  <thead>\n",
              "    <tr style=\"text-align: right;\">\n",
              "      <th></th>\n",
              "      <th>avs_supplied</th>\n",
              "      <th>ICA_0.314835</th>\n",
              "      <th>ICA_0.33976</th>\n",
              "      <th>ICA_0.36973</th>\n",
              "      <th>ICA_0.374825</th>\n",
              "      <th>ICA_0.43981000000000003</th>\n",
              "    </tr>\n",
              "  </thead>\n",
              "  <tbody>\n",
              "    <tr>\n",
              "      <th>0</th>\n",
              "      <td>No</td>\n",
              "      <td>0</td>\n",
              "      <td>0</td>\n",
              "      <td>85529</td>\n",
              "      <td>0</td>\n",
              "      <td>1669</td>\n",
              "    </tr>\n",
              "    <tr>\n",
              "      <th>1</th>\n",
              "      <td>Yes</td>\n",
              "      <td>7498</td>\n",
              "      <td>91601</td>\n",
              "      <td>0</td>\n",
              "      <td>6131</td>\n",
              "      <td>0</td>\n",
              "    </tr>\n",
              "  </tbody>\n",
              "</table>\n",
              "</div>"
            ],
            "text/plain": [
              "  avs_supplied  ICA_0.314835  ...  ICA_0.374825  ICA_0.43981000000000003\n",
              "0           No             0  ...             0                     1669\n",
              "1          Yes          7498  ...          6131                        0\n",
              "\n",
              "[2 rows x 6 columns]"
            ]
          },
          "metadata": {},
          "execution_count": 27
        },
        {
          "output_type": "display_data",
          "data": {
            "image/png": "[encoded data removed]",
            "text/plain": [
              "<Figure size 432x288 with 1 Axes>"
            ]
          },
          "metadata": {
            "needs_background": "light"
          }
        }
      ]
    },
    {
      "cell_type": "markdown",
      "metadata": {
        "id": "uE7uW6dA7b6u"
      },
      "source": [
        "### Correlation Analysis\n",
        "\n"
      ]
    },
    {
      "cell_type": "code",
      "metadata": {
        "id": "n12LRTJ1rn2p"
      },
      "source": [
        "corr_df = df[['funding_source', 'avs_supplied']+ICA_col]\n",
        "corr_final = corr_df.groupby(['funding_source', 'avs_supplied']).sum()"
      ],
      "execution_count": 28,
      "outputs": []
    },
    {
      "cell_type": "code",
      "metadata": {
        "id": "sOHp0qn2ll5F"
      },
      "source": [
        "corr_df = onehot(corr_df, 'funding_source')\n",
        "corr_df = onehot(corr_df, 'avs_supplied')"
      ],
      "execution_count": 29,
      "outputs": []
    },
    {
      "cell_type": "code",
      "metadata": {
        "id": "yOlmXMz9YsbB",
        "colab": {
          "base_uri": "https://localhost:8080/",
          "height": 414
        },
        "outputId": "9710ef91-f3ff-4785-d07e-1a748a77bb4e"
      },
      "source": [
        "corr = corr_df.corr()\n",
        "sns.heatmap(corr, cmap=\"Blues\", annot=True)\n",
        "\n",
        "# Dark blue categorical features show high correlation with each ICA"
      ],
      "execution_count": 30,
      "outputs": [
        {
          "output_type": "execute_result",
          "data": {
            "text/plain": [
              "<matplotlib.axes._subplots.AxesSubplot at 0x7ff6c7aea790>"
            ]
          },
          "metadata": {},
          "execution_count": 30
        },
        {
          "output_type": "display_data",
          "data": {
            "image/png": "[encoded data removed]",
            "text/plain": [
              "<Figure size 432x288 with 2 Axes>"
            ]
          },
          "metadata": {
            "needs_background": "light"
          }
        }
      ]
    },
    {
      "cell_type": "code",
      "metadata": {
        "colab": {
          "base_uri": "https://localhost:8080/",
          "height": 591
        },
        "id": "lynFFW2Lbu3c",
        "outputId": "b02f6a52-fe11-4af2-b595-d5f05c3bbafc"
      },
      "source": [
        "corr_final.plot(kind='bar')\n",
        "corr_final\n",
        "\n",
        "# All transactions are grouped by 'funding_source'/'avs_supplied' showing direct impact on ICA selection"
      ],
      "execution_count": 31,
      "outputs": [
        {
          "output_type": "execute_result",
          "data": {
            "text/html": [
              "<div>\n",
              "<style scoped>\n",
              "    .dataframe tbody tr th:only-of-type {\n",
              "        vertical-align: middle;\n",
              "    }\n",
              "\n",
              "    .dataframe tbody tr th {\n",
              "        vertical-align: top;\n",
              "    }\n",
              "\n",
              "    .dataframe thead th {\n",
              "        text-align: right;\n",
              "    }\n",
              "</style>\n",
              "<table border=\"1\" class=\"dataframe\">\n",
              "  <thead>\n",
              "    <tr style=\"text-align: right;\">\n",
              "      <th></th>\n",
              "      <th></th>\n",
              "      <th>ICA_0.314835</th>\n",
              "      <th>ICA_0.33976</th>\n",
              "      <th>ICA_0.36973</th>\n",
              "      <th>ICA_0.374825</th>\n",
              "      <th>ICA_0.43981000000000003</th>\n",
              "    </tr>\n",
              "    <tr>\n",
              "      <th>funding_source</th>\n",
              "      <th>avs_supplied</th>\n",
              "      <th></th>\n",
              "      <th></th>\n",
              "      <th></th>\n",
              "      <th></th>\n",
              "      <th></th>\n",
              "    </tr>\n",
              "  </thead>\n",
              "  <tbody>\n",
              "    <tr>\n",
              "      <th rowspan=\"2\" valign=\"top\">CREDIT</th>\n",
              "      <th>No</th>\n",
              "      <td>0.0</td>\n",
              "      <td>0.0</td>\n",
              "      <td>85529.0</td>\n",
              "      <td>0.0</td>\n",
              "      <td>0.0</td>\n",
              "    </tr>\n",
              "    <tr>\n",
              "      <th>Yes</th>\n",
              "      <td>0.0</td>\n",
              "      <td>91601.0</td>\n",
              "      <td>0.0</td>\n",
              "      <td>0.0</td>\n",
              "      <td>0.0</td>\n",
              "    </tr>\n",
              "    <tr>\n",
              "      <th rowspan=\"2\" valign=\"top\">DEBIT</th>\n",
              "      <th>No</th>\n",
              "      <td>0.0</td>\n",
              "      <td>0.0</td>\n",
              "      <td>0.0</td>\n",
              "      <td>0.0</td>\n",
              "      <td>1502.0</td>\n",
              "    </tr>\n",
              "    <tr>\n",
              "      <th>Yes</th>\n",
              "      <td>7498.0</td>\n",
              "      <td>0.0</td>\n",
              "      <td>0.0</td>\n",
              "      <td>0.0</td>\n",
              "      <td>0.0</td>\n",
              "    </tr>\n",
              "    <tr>\n",
              "      <th rowspan=\"2\" valign=\"top\">PREPAID</th>\n",
              "      <th>No</th>\n",
              "      <td>0.0</td>\n",
              "      <td>0.0</td>\n",
              "      <td>0.0</td>\n",
              "      <td>0.0</td>\n",
              "      <td>167.0</td>\n",
              "    </tr>\n",
              "    <tr>\n",
              "      <th>Yes</th>\n",
              "      <td>0.0</td>\n",
              "      <td>0.0</td>\n",
              "      <td>0.0</td>\n",
              "      <td>6131.0</td>\n",
              "      <td>0.0</td>\n",
              "    </tr>\n",
              "  </tbody>\n",
              "</table>\n",
              "</div>"
            ],
            "text/plain": [
              "                             ICA_0.314835  ...  ICA_0.43981000000000003\n",
              "funding_source avs_supplied                ...                         \n",
              "CREDIT         No                     0.0  ...                      0.0\n",
              "               Yes                    0.0  ...                      0.0\n",
              "DEBIT          No                     0.0  ...                   1502.0\n",
              "               Yes                 7498.0  ...                      0.0\n",
              "PREPAID        No                     0.0  ...                    167.0\n",
              "               Yes                    0.0  ...                      0.0\n",
              "\n",
              "[6 rows x 5 columns]"
            ]
          },
          "metadata": {},
          "execution_count": 31
        },
        {
          "output_type": "display_data",
          "data": {
            "image/png": "[encoded data removed]",
            "text/plain": [
              "<Figure size 432x288 with 1 Axes>"
            ]
          },
          "metadata": {
            "needs_background": "light"
          }
        }
      ]
    },
    {
      "cell_type": "markdown",
      "metadata": {
        "id": "2pE3zJPW3sqO"
      },
      "source": [
        "### High Fee Reasoning - *0.374825 and 0.43981* "
      ]
    },
    {
      "cell_type": "markdown",
      "metadata": {
        "id": "_cSPAkYU4Rg9"
      },
      "source": [
        "#### Interchange Fee - 0.374825"
      ]
    },
    {
      "cell_type": "code",
      "metadata": {
        "colab": {
          "base_uri": "https://localhost:8080/",
          "height": 241
        },
        "id": "DTmRXZCCzBU2",
        "outputId": "c6699780-0bb7-4dd4-811c-051733d90f33"
      },
      "source": [
        "df.loc[df['ICA_0.374825'] == 1, :].head()"
      ],
      "execution_count": 32,
      "outputs": [
        {
          "output_type": "execute_result",
          "data": {
            "text/html": [
              "<div>\n",
              "<style scoped>\n",
              "    .dataframe tbody tr th:only-of-type {\n",
              "        vertical-align: middle;\n",
              "    }\n",
              "\n",
              "    .dataframe tbody tr th {\n",
              "        vertical-align: top;\n",
              "    }\n",
              "\n",
              "    .dataframe thead th {\n",
              "        text-align: right;\n",
              "    }\n",
              "</style>\n",
              "<table border=\"1\" class=\"dataframe\">\n",
              "  <thead>\n",
              "    <tr style=\"text-align: right;\">\n",
              "      <th></th>\n",
              "      <th>payment_creation_day</th>\n",
              "      <th>txn_reference</th>\n",
              "      <th>bin</th>\n",
              "      <th>funding_source</th>\n",
              "      <th>issuer_country_code</th>\n",
              "      <th>shopper_interaction</th>\n",
              "      <th>mcc</th>\n",
              "      <th>cvc_supplied</th>\n",
              "      <th>avs_supplied</th>\n",
              "      <th>transaction_amount</th>\n",
              "      <th>transaction_currency</th>\n",
              "      <th>interchange amount</th>\n",
              "      <th>interchang_currency</th>\n",
              "      <th>Year/Month</th>\n",
              "      <th>Month</th>\n",
              "      <th>ICA_0.314835</th>\n",
              "      <th>ICA_0.33976</th>\n",
              "      <th>ICA_0.36973</th>\n",
              "      <th>ICA_0.374825</th>\n",
              "      <th>ICA_0.43981000000000003</th>\n",
              "    </tr>\n",
              "  </thead>\n",
              "  <tbody>\n",
              "    <tr>\n",
              "      <th>35</th>\n",
              "      <td>2021-02-09</td>\n",
              "      <td>3336305386442738</td>\n",
              "      <td>440393</td>\n",
              "      <td>PREPAID</td>\n",
              "      <td>US</td>\n",
              "      <td>ContAuth</td>\n",
              "      <td>5311</td>\n",
              "      <td>False</td>\n",
              "      <td>Yes</td>\n",
              "      <td>9.99</td>\n",
              "      <td>USD</td>\n",
              "      <td>0.374825</td>\n",
              "      <td>USD</td>\n",
              "      <td>2021-02</td>\n",
              "      <td>2</td>\n",
              "      <td>0</td>\n",
              "      <td>0</td>\n",
              "      <td>0</td>\n",
              "      <td>1</td>\n",
              "      <td>0</td>\n",
              "    </tr>\n",
              "    <tr>\n",
              "      <th>59</th>\n",
              "      <td>2021-09-30</td>\n",
              "      <td>3336330159531657</td>\n",
              "      <td>447930</td>\n",
              "      <td>PREPAID</td>\n",
              "      <td>US</td>\n",
              "      <td>ContAuth</td>\n",
              "      <td>5310</td>\n",
              "      <td>False</td>\n",
              "      <td>Yes</td>\n",
              "      <td>9.99</td>\n",
              "      <td>USD</td>\n",
              "      <td>0.374825</td>\n",
              "      <td>USD</td>\n",
              "      <td>2021-09</td>\n",
              "      <td>9</td>\n",
              "      <td>0</td>\n",
              "      <td>0</td>\n",
              "      <td>0</td>\n",
              "      <td>1</td>\n",
              "      <td>0</td>\n",
              "    </tr>\n",
              "    <tr>\n",
              "      <th>99</th>\n",
              "      <td>2021-01-09</td>\n",
              "      <td>3426305296679016</td>\n",
              "      <td>440393</td>\n",
              "      <td>PREPAID</td>\n",
              "      <td>US</td>\n",
              "      <td>ContAuth</td>\n",
              "      <td>5311</td>\n",
              "      <td>False</td>\n",
              "      <td>Yes</td>\n",
              "      <td>9.99</td>\n",
              "      <td>USD</td>\n",
              "      <td>0.374825</td>\n",
              "      <td>USD</td>\n",
              "      <td>2021-01</td>\n",
              "      <td>1</td>\n",
              "      <td>0</td>\n",
              "      <td>0</td>\n",
              "      <td>0</td>\n",
              "      <td>1</td>\n",
              "      <td>0</td>\n",
              "    </tr>\n",
              "    <tr>\n",
              "      <th>115</th>\n",
              "      <td>2021-09-21</td>\n",
              "      <td>3426322560527441</td>\n",
              "      <td>440393</td>\n",
              "      <td>PREPAID</td>\n",
              "      <td>US</td>\n",
              "      <td>ContAuth</td>\n",
              "      <td>5311</td>\n",
              "      <td>False</td>\n",
              "      <td>Yes</td>\n",
              "      <td>9.99</td>\n",
              "      <td>USD</td>\n",
              "      <td>0.374825</td>\n",
              "      <td>USD</td>\n",
              "      <td>2021-09</td>\n",
              "      <td>9</td>\n",
              "      <td>0</td>\n",
              "      <td>0</td>\n",
              "      <td>0</td>\n",
              "      <td>1</td>\n",
              "      <td>0</td>\n",
              "    </tr>\n",
              "    <tr>\n",
              "      <th>153</th>\n",
              "      <td>2021-09-22</td>\n",
              "      <td>3446322815020917</td>\n",
              "      <td>451395</td>\n",
              "      <td>PREPAID</td>\n",
              "      <td>US</td>\n",
              "      <td>ContAuth</td>\n",
              "      <td>5310</td>\n",
              "      <td>False</td>\n",
              "      <td>Yes</td>\n",
              "      <td>9.99</td>\n",
              "      <td>USD</td>\n",
              "      <td>0.374825</td>\n",
              "      <td>USD</td>\n",
              "      <td>2021-09</td>\n",
              "      <td>9</td>\n",
              "      <td>0</td>\n",
              "      <td>0</td>\n",
              "      <td>0</td>\n",
              "      <td>1</td>\n",
              "      <td>0</td>\n",
              "    </tr>\n",
              "  </tbody>\n",
              "</table>\n",
              "</div>"
            ],
            "text/plain": [
              "    payment_creation_day  ...  ICA_0.43981000000000003\n",
              "35            2021-02-09  ...                        0\n",
              "59            2021-09-30  ...                        0\n",
              "99            2021-01-09  ...                        0\n",
              "115           2021-09-21  ...                        0\n",
              "153           2021-09-22  ...                        0\n",
              "\n",
              "[5 rows x 20 columns]"
            ]
          },
          "metadata": {},
          "execution_count": 32
        }
      ]
    },
    {
      "cell_type": "code",
      "metadata": {
        "colab": {
          "base_uri": "https://localhost:8080/"
        },
        "id": "aJp3X6ThsQ9I",
        "outputId": "2c4a154a-5832-459c-de4c-e878475dc88f"
      },
      "source": [
        "df.loc[df['ICA_0.374825'] == 1, :][['funding_source', 'avs_supplied']].value_counts()\n",
        "\n",
        "# 2nd highest fee (0.374825) only produced when PREPAID w/ address supplied"
      ],
      "execution_count": 33,
      "outputs": [
        {
          "output_type": "execute_result",
          "data": {
            "text/plain": [
              "funding_source  avs_supplied\n",
              "PREPAID         Yes             6131\n",
              "dtype: int64"
            ]
          },
          "metadata": {},
          "execution_count": 33
        }
      ]
    },
    {
      "cell_type": "markdown",
      "metadata": {
        "id": "vvOPV_Fh4dAO"
      },
      "source": [
        "#### Interchange Fee - 0.43981"
      ]
    },
    {
      "cell_type": "code",
      "metadata": {
        "colab": {
          "base_uri": "https://localhost:8080/",
          "height": 241
        },
        "id": "QapM7JTK4lWf",
        "outputId": "5178693b-079d-40ef-a7b0-cbd74d420ca9"
      },
      "source": [
        "df.loc[df['ICA_0.43981000000000003'] == 1, :].head()"
      ],
      "execution_count": 34,
      "outputs": [
        {
          "output_type": "execute_result",
          "data": {
            "text/html": [
              "<div>\n",
              "<style scoped>\n",
              "    .dataframe tbody tr th:only-of-type {\n",
              "        vertical-align: middle;\n",
              "    }\n",
              "\n",
              "    .dataframe tbody tr th {\n",
              "        vertical-align: top;\n",
              "    }\n",
              "\n",
              "    .dataframe thead th {\n",
              "        text-align: right;\n",
              "    }\n",
              "</style>\n",
              "<table border=\"1\" class=\"dataframe\">\n",
              "  <thead>\n",
              "    <tr style=\"text-align: right;\">\n",
              "      <th></th>\n",
              "      <th>payment_creation_day</th>\n",
              "      <th>txn_reference</th>\n",
              "      <th>bin</th>\n",
              "      <th>funding_source</th>\n",
              "      <th>issuer_country_code</th>\n",
              "      <th>shopper_interaction</th>\n",
              "      <th>mcc</th>\n",
              "      <th>cvc_supplied</th>\n",
              "      <th>avs_supplied</th>\n",
              "      <th>transaction_amount</th>\n",
              "      <th>transaction_currency</th>\n",
              "      <th>interchange amount</th>\n",
              "      <th>interchang_currency</th>\n",
              "      <th>Year/Month</th>\n",
              "      <th>Month</th>\n",
              "      <th>ICA_0.314835</th>\n",
              "      <th>ICA_0.33976</th>\n",
              "      <th>ICA_0.36973</th>\n",
              "      <th>ICA_0.374825</th>\n",
              "      <th>ICA_0.43981000000000003</th>\n",
              "    </tr>\n",
              "  </thead>\n",
              "  <tbody>\n",
              "    <tr>\n",
              "      <th>53</th>\n",
              "      <td>2021-09-27</td>\n",
              "      <td>3336327163255521</td>\n",
              "      <td>412842</td>\n",
              "      <td>DEBIT</td>\n",
              "      <td>US</td>\n",
              "      <td>ContAuth</td>\n",
              "      <td>5310</td>\n",
              "      <td>False</td>\n",
              "      <td>No</td>\n",
              "      <td>9.99</td>\n",
              "      <td>USD</td>\n",
              "      <td>0.43981</td>\n",
              "      <td>USD</td>\n",
              "      <td>2021-09</td>\n",
              "      <td>9</td>\n",
              "      <td>0</td>\n",
              "      <td>0</td>\n",
              "      <td>0</td>\n",
              "      <td>0</td>\n",
              "      <td>1</td>\n",
              "    </tr>\n",
              "    <tr>\n",
              "      <th>78</th>\n",
              "      <td>2021-09-29</td>\n",
              "      <td>3346330000000000</td>\n",
              "      <td>431559</td>\n",
              "      <td>DEBIT</td>\n",
              "      <td>US</td>\n",
              "      <td>ContAuth</td>\n",
              "      <td>5311</td>\n",
              "      <td>False</td>\n",
              "      <td>No</td>\n",
              "      <td>9.99</td>\n",
              "      <td>USD</td>\n",
              "      <td>0.43981</td>\n",
              "      <td>USD</td>\n",
              "      <td>2021-09</td>\n",
              "      <td>9</td>\n",
              "      <td>0</td>\n",
              "      <td>0</td>\n",
              "      <td>0</td>\n",
              "      <td>0</td>\n",
              "      <td>1</td>\n",
              "    </tr>\n",
              "    <tr>\n",
              "      <th>243</th>\n",
              "      <td>2021-09-23</td>\n",
              "      <td>3546324134762707</td>\n",
              "      <td>481669</td>\n",
              "      <td>DEBIT</td>\n",
              "      <td>US</td>\n",
              "      <td>ContAuth</td>\n",
              "      <td>5310</td>\n",
              "      <td>False</td>\n",
              "      <td>No</td>\n",
              "      <td>9.99</td>\n",
              "      <td>USD</td>\n",
              "      <td>0.43981</td>\n",
              "      <td>USD</td>\n",
              "      <td>2021-09</td>\n",
              "      <td>9</td>\n",
              "      <td>0</td>\n",
              "      <td>0</td>\n",
              "      <td>0</td>\n",
              "      <td>0</td>\n",
              "      <td>1</td>\n",
              "    </tr>\n",
              "    <tr>\n",
              "      <th>379</th>\n",
              "      <td>2021-09-27</td>\n",
              "      <td>6326327480755265</td>\n",
              "      <td>436618</td>\n",
              "      <td>DEBIT</td>\n",
              "      <td>US</td>\n",
              "      <td>ContAuth</td>\n",
              "      <td>5310</td>\n",
              "      <td>False</td>\n",
              "      <td>No</td>\n",
              "      <td>9.99</td>\n",
              "      <td>USD</td>\n",
              "      <td>0.43981</td>\n",
              "      <td>USD</td>\n",
              "      <td>2021-09</td>\n",
              "      <td>9</td>\n",
              "      <td>0</td>\n",
              "      <td>0</td>\n",
              "      <td>0</td>\n",
              "      <td>0</td>\n",
              "      <td>1</td>\n",
              "    </tr>\n",
              "    <tr>\n",
              "      <th>635</th>\n",
              "      <td>2021-09-18</td>\n",
              "      <td>6446319236705244</td>\n",
              "      <td>451056</td>\n",
              "      <td>DEBIT</td>\n",
              "      <td>US</td>\n",
              "      <td>ContAuth</td>\n",
              "      <td>5310</td>\n",
              "      <td>False</td>\n",
              "      <td>No</td>\n",
              "      <td>9.99</td>\n",
              "      <td>USD</td>\n",
              "      <td>0.43981</td>\n",
              "      <td>USD</td>\n",
              "      <td>2021-09</td>\n",
              "      <td>9</td>\n",
              "      <td>0</td>\n",
              "      <td>0</td>\n",
              "      <td>0</td>\n",
              "      <td>0</td>\n",
              "      <td>1</td>\n",
              "    </tr>\n",
              "  </tbody>\n",
              "</table>\n",
              "</div>"
            ],
            "text/plain": [
              "    payment_creation_day  ...  ICA_0.43981000000000003\n",
              "53            2021-09-27  ...                        1\n",
              "78            2021-09-29  ...                        1\n",
              "243           2021-09-23  ...                        1\n",
              "379           2021-09-27  ...                        1\n",
              "635           2021-09-18  ...                        1\n",
              "\n",
              "[5 rows x 20 columns]"
            ]
          },
          "metadata": {},
          "execution_count": 34
        }
      ]
    },
    {
      "cell_type": "code",
      "metadata": {
        "colab": {
          "base_uri": "https://localhost:8080/"
        },
        "id": "dtucqo8p4pVt",
        "outputId": "262debf3-50fd-4e6e-a913-3b54cff26862"
      },
      "source": [
        "df.loc[df['ICA_0.43981000000000003'] == 1, :][['funding_source', 'avs_supplied']].value_counts()\n",
        "\n",
        "# Highest fee (0.43981) only produced when DEBIT or PREPAID w/ no address supplied"
      ],
      "execution_count": 35,
      "outputs": [
        {
          "output_type": "execute_result",
          "data": {
            "text/plain": [
              "funding_source  avs_supplied\n",
              "DEBIT           No              1502\n",
              "PREPAID         No               167\n",
              "dtype: int64"
            ]
          },
          "metadata": {},
          "execution_count": 35
        }
      ]
    },
    {
      "cell_type": "markdown",
      "metadata": {
        "id": "gLD-qbd75m2i"
      },
      "source": [
        "#### Interchange Fee - Prepaid"
      ]
    },
    {
      "cell_type": "code",
      "metadata": {
        "colab": {
          "base_uri": "https://localhost:8080/"
        },
        "id": "Zgvf6mJg4489",
        "outputId": "704ded74-adbf-4e2d-bdfd-34bbc5452fb9"
      },
      "source": [
        "df.loc[df['funding_source'] == 'PREPAID', :][ICA_col].value_counts()\n",
        "\n",
        "# Prepaid transactions only produce higher fees"
      ],
      "execution_count": 36,
      "outputs": [
        {
          "output_type": "execute_result",
          "data": {
            "text/plain": [
              "ICA_0.314835  ICA_0.33976  ICA_0.36973  ICA_0.374825  ICA_0.43981000000000003\n",
              "0             0            0            1             0                          6131\n",
              "                                        0             1                           167\n",
              "dtype: int64"
            ]
          },
          "metadata": {},
          "execution_count": 36
        }
      ]
    }
  ]
}